{
 "cells": [
  {
   "cell_type": "code",
   "execution_count": null,
   "id": "c9788a9f",
   "metadata": {},
   "outputs": [],
   "source": [
    "# reinforcement learning\n",
    "\n",
    "## https://www.youtube.com/watch?v=kVmp0uGtShk  \n",
    "## https://www.youtube.com/watch?v=WXuK6gekU1Y\n",
    "## https://openai.com/index/emergent-tool-use/\n",
    "## https://www.youtube.com/watch?v=kopoLzvh5jY\n",
    "\n",
    "## \"simulation to reality gap\"\n",
    "\n",
    "## dykstra:\n",
    "## bellman equation (setting the minimum function of overall cost), the overall cost is the minimum time to the nearest point + the rest of the cost to the goal set"
   ]
  }
 ],
 "metadata": {
  "kernelspec": {
   "display_name": "Python 3 (ipykernel)",
   "language": "python",
   "name": "python3"
  },
  "language_info": {
   "codemirror_mode": {
    "name": "ipython",
    "version": 3
   },
   "file_extension": ".py",
   "mimetype": "text/x-python",
   "name": "python",
   "nbconvert_exporter": "python",
   "pygments_lexer": "ipython3",
   "version": "3.11.9"
  }
 },
 "nbformat": 4,
 "nbformat_minor": 5
}
