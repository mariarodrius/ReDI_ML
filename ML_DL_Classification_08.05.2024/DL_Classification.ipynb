{
 "cells": [
  {
   "cell_type": "markdown",
   "metadata": {
    "id": "p_YrnQ06xDA-"
   },
   "source": [
    "# Imports"
   ]
  },
  {
   "cell_type": "code",
   "execution_count": null,
   "metadata": {
    "id": "5apesG2FsFsq"
   },
   "outputs": [],
   "source": [
    "import torch\n",
    "import torch.nn as nn\n",
    "from torch.utils.data import Dataset, DataLoader\n",
    "\n",
    "from sklearn.datasets import load_iris\n",
    "from sklearn.model_selection import train_test_split\n",
    "from sklearn.metrics import accuracy_score\n",
    "\n",
    "import seaborn as sns"
   ]
  },
  {
   "cell_type": "markdown",
   "metadata": {
    "id": "jZWCDEgvxMNx"
   },
   "source": [
    "# Load Data"
   ]
  },
  {
   "cell_type": "code",
   "execution_count": null,
   "metadata": {
    "id": "LyPIY00YsFdB"
   },
   "outputs": [],
   "source": [
    "iris = load_iris()\n",
    "X = iris.data\n",
    "y = iris.target"
   ]
  },
  {
   "cell_type": "markdown",
   "metadata": {
    "id": "yz_O6pmPxgLs"
   },
   "source": [
    "# Prepare Data"
   ]
  },
  {
   "cell_type": "code",
   "execution_count": null,
   "metadata": {
    "id": "NtqAAG6wsPm2"
   },
   "outputs": [],
   "source": [
    "X_train, X_test, y_train, y_test = # split the data\n",
    "\n",
    "X_train = # transform the whole data to 'float32'\n",
    "X_test = # transform the whole data to 'float32'"
   ]
  },
  {
   "cell_type": "markdown",
   "metadata": {
    "id": "i6V27-b8xlAQ"
   },
   "source": [
    "# Define Dataset Class for PyTorch"
   ]
  },
  {
   "cell_type": "markdown",
   "metadata": {
    "id": "gwdmUfbxzSBs"
   },
   "source": [
    "Why do we need dataset classes when using pytorch? What are their arguments? Which methods are they required to have?"
   ]
  },
  {
   "cell_type": "code",
   "execution_count": null,
   "metadata": {
    "id": "lH8OlkrFsSIj"
   },
   "outputs": [],
   "source": [
    "class IrisData(Dataset):\n",
    "\n",
    "    def __init__(self,) -> None: # add necessary arguments\n",
    "        super().__init__()\n",
    "        self.X = torch.from_numpy(X_train)\n",
    "        self.y = torch.from_numpy(y_train)\n",
    "        self.y = self.y.type(torch.LongTensor)\n",
    "        self.len = self.X.shape[0]\n",
    "\n",
    "    def __getitem__(self, index):\n",
    "        return # return a tuple with x,y at a given index\n",
    "\n",
    "    def __len__(self):\n",
    "        # complete this function"
   ]
  },
  {
   "cell_type": "markdown",
   "metadata": {
    "id": "QNL7tQjPxth5"
   },
   "source": [
    "# Load the Data into Dataloader"
   ]
  },
  {
   "cell_type": "code",
   "execution_count": null,
   "metadata": {
    "id": "2h1qApedsU7D"
   },
   "outputs": [],
   "source": [
    "iris_data = IrisData(X_train=X_train, y_train=y_train)\n",
    "train_loader = DataLoader(dataset=iris_data, batch_size=32)"
   ]
  },
  {
   "cell_type": "code",
   "execution_count": null,
   "metadata": {
    "colab": {
     "base_uri": "https://localhost:8080/"
    },
    "id": "lQOX-HRwx2VM",
    "outputId": "4f09acea-cb8f-46f3-f7d4-c0529eaa6ee3"
   },
   "outputs": [
    {
     "name": "stdout",
     "output_type": "stream",
     "text": [
      "X Shape: torch.Size([120, 4]), y shape: torch.Size([120])\n"
     ]
    }
   ],
   "source": [
    "print(f\"X Shape: {iris_data.X.shape}, y shape: {iris_data.y.shape}\")"
   ]
  },
  {
   "cell_type": "markdown",
   "metadata": {
    "id": "3iIeDGQux51I"
   },
   "source": [
    "# Define Model"
   ]
  },
  {
   "cell_type": "code",
   "execution_count": null,
   "metadata": {
    "id": "gbGRVT1VsXqP"
   },
   "outputs": [],
   "source": [
    "class MultiClassNet(nn.Module):\n",
    "    def __init__(self, NUM_FEATURES, NUM_CLASSES, HIDDEN_FEATURES):\n",
    "        super().__init__()\n",
    "        self.lin1 = nn.Linear(NUM_FEATURES, HIDDEN_FEATURES)\n",
    "        self.lin2 = nn.Linear(HIDDEN_FEATURES, NUM_CLASSES)\n",
    "        # which activation function should be use?\n",
    "\n",
    "    def forward(self, x):\n",
    "        x = self.lin1(x)\n",
    "        x = torch.sigmoid(x)\n",
    "        x = self.lin2(x)\n",
    "        x = # add the activation function\n",
    "        return x"
   ]
  },
  {
   "cell_type": "markdown",
   "metadata": {
    "id": "Prp8aNXex-vt"
   },
   "source": [
    "# Define Hyperparameters"
   ]
  },
  {
   "cell_type": "code",
   "execution_count": null,
   "metadata": {
    "id": "Y5mkkLSJsbDv"
   },
   "outputs": [],
   "source": [
    "NUM_FEATURES = iris_data.X.shape[1]\n",
    "HIDDEN = 6\n",
    "NUM_CLASSES = len(iris_data.y.unique())"
   ]
  },
  {
   "cell_type": "code",
   "execution_count": null,
   "metadata": {
    "id": "ojl17RwsyQEw"
   },
   "outputs": [],
   "source": [
    "model = MultiClassNet(NUM_FEATURES=NUM_FEATURES, NUM_CLASSES=NUM_CLASSES, HIDDEN_FEATURES=HIDDEN)"
   ]
  },
  {
   "cell_type": "markdown",
   "metadata": {
    "id": "09ZwsFDM0ZzN"
   },
   "source": [
    "play arounf with the following two parameters. See whether the model converges based on your parameters."
   ]
  },
  {
   "cell_type": "code",
   "execution_count": null,
   "metadata": {
    "id": "3gMB5PoWyO2Q"
   },
   "outputs": [],
   "source": [
    "NUM_EPOCHS = #\n",
    "lr = #"
   ]
  },
  {
   "cell_type": "code",
   "execution_count": null,
   "metadata": {
    "id": "EZfVqb70sd0k"
   },
   "outputs": [],
   "source": [
    "criterion = nn.CrossEntropyLoss()\n",
    "\n",
    "optimizer=torch.optim.SGD(model.parameters(), lr=lr)\n",
    "\n",
    "losses = []\n",
    "for epoch in range(NUM_EPOCHS):\n",
    "    for x, y in train_loader:\n",
    "\n",
    "        # initialize gradients\n",
    "        optimizer.zero_grad()\n",
    "\n",
    "        # forward pass\n",
    "        y_hat_log = model(x)\n",
    "\n",
    "        # calculate losses\n",
    "        loss = criterion(y_hat_log, y)\n",
    "\n",
    "        # calculate gradients\n",
    "\n",
    "        loss.backward()\n",
    "        # update parameters\n",
    "        optimizer.step()\n",
    "\n",
    "    losses.append(float(loss.data.detach().numpy()))"
   ]
  },
  {
   "cell_type": "code",
   "execution_count": null,
   "metadata": {
    "colab": {
     "base_uri": "https://localhost:8080/",
     "height": 447
    },
    "id": "GgARlZmWsi0J",
    "outputId": "77380861-4326-4139-cf45-fd5aae07b32c"
   },
   "outputs": [
    {
     "data": {
      "text/plain": [
       "<Axes: >"
      ]
     },
     "execution_count": 22,
     "metadata": {},
     "output_type": "execute_result"
    },
    {
     "data": {
      "image/png": "[encoded data removed]",
      "text/plain": [
       "<Figure size 640x480 with 1 Axes>"
      ]
     },
     "metadata": {},
     "output_type": "display_data"
    }
   ],
   "source": [
    "sns.lineplot(x= range(len(losses)), y = losses)"
   ]
  },
  {
   "cell_type": "code",
   "execution_count": null,
   "metadata": {
    "id": "C9HFrpUSshsW"
   },
   "outputs": [],
   "source": [
    "X_test_torch = torch.from_numpy(X_test)\n",
    "with torch.no_grad():\n",
    "    y_test_hat_softmax = model(X_test_torch)\n",
    "    y_test_hat = torch.max(y_test_hat_softmax.data, 1)"
   ]
  },
  {
   "cell_type": "code",
   "execution_count": null,
   "metadata": {
    "colab": {
     "base_uri": "https://localhost:8080/"
    },
    "id": "tAx6AzaZvez6",
    "outputId": "7d7d4d9b-c5ed-44d8-c477-cc803984363e"
   },
   "outputs": [
    {
     "data": {
      "text/plain": [
       "0.9"
      ]
     },
     "execution_count": 24,
     "metadata": {},
     "output_type": "execute_result"
    }
   ],
   "source": [
    "accuracy_score(y_test, y_test_hat.indices)"
   ]
  }
 ],
 "metadata": {
  "colab": {
   "provenance": []
  },
  "kernelspec": {
   "display_name": "Python 3 (ipykernel)",
   "language": "python",
   "name": "python3"
  },
  "language_info": {
   "codemirror_mode": {
    "name": "ipython",
    "version": 3
   },
   "file_extension": ".py",
   "mimetype": "text/x-python",
   "name": "python",
   "nbconvert_exporter": "python",
   "pygments_lexer": "ipython3",
   "version": "3.11.9"
  }
 },
 "nbformat": 4,
 "nbformat_minor": 1
}
