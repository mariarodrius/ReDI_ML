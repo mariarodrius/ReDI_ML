{
 "cells": [
  {
   "cell_type": "code",
   "execution_count": null,
   "id": "9cf0aef4",
   "metadata": {},
   "outputs": [],
   "source": [
    "#%% 5. Create a class Rectangle with attributes length and width, and methods to calculate the area and perimeter.\n",
    "class Rectangle:\n",
    "    passrect = Rectangle(5, 3)\n",
    "print(f\"Area: {rect.area()}\")  # Output: Area: 15\n",
    "print(f\"Perimeter: {rect.perimeter()}\")  # Output: Perimeter: 16#%% 6. Write a function to count the number of vowels in a given string.\n",
    "def count_vowels(string):\n",
    "    passprint(count_vowels(\"Hello, World!\"))  # Output: 3#%% 7. Anagram check\n",
    "# Write a function to check if two given strings are anagrams of each other.\n",
    "def is_anagram(str1, str2):\n",
    "    passprint(is_anagram(\"listen\", \"silent\"))  # Output: True\n",
    "print(is_anagram(\"python\", \"java\"))  # Output: False#%% 8. Flatten a nested List\n",
    "# Write a function to flatten a given nested list.\n",
    "def flatten_list(nested_list):\n",
    "   passnested_list = [1, 2, [3, 4], [[5, 6], [7]], 8]\n",
    "print(flatten_list(nested_list))  # Output: [1, 2, 3, 4, 5, 6, 7, 8]"
   ]
  }
 ],
 "metadata": {
  "kernelspec": {
   "display_name": "Python 3 (ipykernel)",
   "language": "python",
   "name": "python3"
  },
  "language_info": {
   "codemirror_mode": {
    "name": "ipython",
    "version": 3
   },
   "file_extension": ".py",
   "mimetype": "text/x-python",
   "name": "python",
   "nbconvert_exporter": "python",
   "pygments_lexer": "ipython3",
   "version": "3.11.5"
  }
 },
 "nbformat": 4,
 "nbformat_minor": 5
}
