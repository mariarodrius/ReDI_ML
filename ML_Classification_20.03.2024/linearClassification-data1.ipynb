{
 "cells": [
  {
   "cell_type": "code",
   "execution_count": 1,
   "id": "75daa475",
   "metadata": {},
   "outputs": [],
   "source": [
    "#Linear Classification"
   ]
  },
  {
   "cell_type": "code",
   "execution_count": 2,
   "id": "8eeb3200",
   "metadata": {},
   "outputs": [],
   "source": [
    "#read Data into numpy array"
   ]
  },
  {
   "cell_type": "code",
   "execution_count": 1,
   "id": "4b98b131",
   "metadata": {},
   "outputs": [],
   "source": [
    "import numpy as np"
   ]
  },
  {
   "cell_type": "code",
   "execution_count": 2,
   "id": "bf3df1c4",
   "metadata": {},
   "outputs": [
    {
     "data": {
      "text/plain": [
       "array([[ 1. ,  8.8,  1. ],\n",
       "       [ 1. , 11. ,  1. ],\n",
       "       [ 1.2, 15.9,  1. ],\n",
       "       [ 3.7, 11. ,  1. ],\n",
       "       [ 6.1,  8.8,  1. ],\n",
       "       [ 7. , 17. ,  0. ],\n",
       "       [10. ,  8.1,  0. ],\n",
       "       [11. , 10.5,  0. ],\n",
       "       [11.8, 17.5,  0. ],\n",
       "       [16.4, 15.8,  0. ]])"
      ]
     },
     "execution_count": 2,
     "metadata": {},
     "output_type": "execute_result"
    }
   ],
   "source": [
    "mydata = np.loadtxt(fname=\"data1.txt\")\n",
    "mydata"
   ]
  },
  {
   "cell_type": "code",
   "execution_count": 3,
   "id": "121fc239",
   "metadata": {},
   "outputs": [],
   "source": [
    "import matplotlib.pyplot as plt"
   ]
  },
  {
   "cell_type": "code",
   "execution_count": 4,
   "id": "e2943022",
   "metadata": {},
   "outputs": [
    {
     "data": {
      "text/plain": [
       "<matplotlib.collections.PathCollection at 0x1dbccfe6c90>"
      ]
     },
     "execution_count": 4,
     "metadata": {},
     "output_type": "execute_result"
    },
    {
     "data": {
      "image/png": "[encoded data removed]",
      "text/plain": [
       "<Figure size 640x480 with 1 Axes>"
      ]
     },
     "metadata": {},
     "output_type": "display_data"
    }
   ],
   "source": [
    "plt.scatter(mydata[:,0],mydata[:,1], c=mydata[:,2])  #c for color in 3rd row (position 2)"
   ]
  },
  {
   "cell_type": "code",
   "execution_count": 5,
   "id": "5b14e671",
   "metadata": {},
   "outputs": [],
   "source": [
    "class LinearClassifier:\n",
    "    \n",
    "    def __init__(self):\n",
    "        print(\"Initializing\")\n",
    "        \n",
    "    def train(self, Xtrain):\n",
    "        print(\"training\")\n",
    "        self.Xtrain = Xtrain\n",
    "        Xvalues = np.linspace(0,18,20)\n",
    "        plt.scatter(mydata[:,0], mydata[:,1], c=mydata[:,2])\n",
    "        # select only data 0\n",
    "        X = self.Xtrain[np.where(self.Xtrain[:,2]==0),0][0]\n",
    "        Y = self.Xtrain[np.where(self.Xtrain[:,2]==0),1][0]\n",
    "        print(Y)\n",
    "        A = np.vstack([X, np.ones(len(X))]).T \n",
    "        solu = np.linalg.lstsq(A,Y,rcond=none)\n",
    "        m,b=solu[0]\n",
    "        yhat = m *Xvalues +b\n",
    "        plt.plot(Xvalues,yhat,c=\"black\")\n",
    "        \n",
    "        #select only data 1, yellow dots\n",
    "        X = self.Xtrain[np.where(self.Xtrain[:,2]==1),0][0]\n",
    "        Y = self.Xtrain[np.where(self.Xtrain[:,2]==1),1][0]\n",
    "        print(Y)\n",
    "        A = np.vstack([X, np.ones(len(X))]).T \n",
    "        solu = np.linalg.lstsq(A,Y,rcond=none)\n",
    "        my,by=solu[0]\n",
    "        yhat = my *Xvalues +by\n",
    "        plt.plot(Xvalues,yhat,c=\"yellow\")\n",
    "        \n",
    "        m = 0.1\n",
    "        b = 12\n",
    "       \n",
    "        \n",
    "        \n",
    "        #take the mean value of the two m and b \n",
    "        mm = (m+my)/2\n",
    "        bb = (b+by)/2\n",
    "        \n",
    "        \n",
    "        \n",
    "    def predict(self, Xtest):\n",
    "        print(\"Test data is purple\")\n",
    "        "
   ]
  },
  {
   "cell_type": "code",
   "execution_count": 6,
   "id": "76e6489e",
   "metadata": {},
   "outputs": [
    {
     "name": "stdout",
     "output_type": "stream",
     "text": [
      "Initializing\n",
      "training\n",
      "[17.   8.1 10.5 17.5 15.8]\n"
     ]
    },
    {
     "ename": "NameError",
     "evalue": "name 'none' is not defined",
     "output_type": "error",
     "traceback": [
      "\u001b[1;31m---------------------------------------------------------------------------\u001b[0m",
      "\u001b[1;31mNameError\u001b[0m                                 Traceback (most recent call last)",
      "Cell \u001b[1;32mIn[6], line 2\u001b[0m\n\u001b[0;32m      1\u001b[0m classificator \u001b[38;5;241m=\u001b[39m LinearClassifier()\n\u001b[1;32m----> 2\u001b[0m classificator\u001b[38;5;241m.\u001b[39mtrain(mydata)\n\u001b[0;32m      3\u001b[0m classificator\u001b[38;5;241m.\u001b[39mpredict([\u001b[38;5;241m8.0\u001b[39m, \u001b[38;5;241m10.0\u001b[39m])\n",
      "Cell \u001b[1;32mIn[5], line 16\u001b[0m, in \u001b[0;36mLinearClassifier.train\u001b[1;34m(self, Xtrain)\u001b[0m\n\u001b[0;32m     14\u001b[0m \u001b[38;5;28mprint\u001b[39m(Y)\n\u001b[0;32m     15\u001b[0m A \u001b[38;5;241m=\u001b[39m np\u001b[38;5;241m.\u001b[39mvstack([X, np\u001b[38;5;241m.\u001b[39mones(\u001b[38;5;28mlen\u001b[39m(X))])\u001b[38;5;241m.\u001b[39mT \n\u001b[1;32m---> 16\u001b[0m solu \u001b[38;5;241m=\u001b[39m np\u001b[38;5;241m.\u001b[39mlinalg\u001b[38;5;241m.\u001b[39mlstsq(A,Y,rcond\u001b[38;5;241m=\u001b[39mnone)\n\u001b[0;32m     17\u001b[0m m,b\u001b[38;5;241m=\u001b[39msolu[\u001b[38;5;241m0\u001b[39m]\n\u001b[0;32m     18\u001b[0m yhat \u001b[38;5;241m=\u001b[39m m \u001b[38;5;241m*\u001b[39mXvalues \u001b[38;5;241m+\u001b[39mb\n",
      "\u001b[1;31mNameError\u001b[0m: name 'none' is not defined"
     ]
    },
    {
     "data": {
      "image/png": "[encoded data removed]",
      "text/plain": [
       "<Figure size 640x480 with 1 Axes>"
      ]
     },
     "metadata": {},
     "output_type": "display_data"
    }
   ],
   "source": [
    "classificator = LinearClassifier()\n",
    "classificator.train(mydata)\n",
    "classificator.predict([8.0, 10.0])\n"
   ]
  },
  {
   "cell_type": "code",
   "execution_count": null,
   "id": "87fbe562",
   "metadata": {},
   "outputs": [],
   "source": []
  },
  {
   "cell_type": "code",
   "execution_count": null,
   "id": "07008a42",
   "metadata": {},
   "outputs": [],
   "source": []
  },
  {
   "cell_type": "code",
   "execution_count": null,
   "id": "efab82e7",
   "metadata": {},
   "outputs": [],
   "source": []
  }
 ],
 "metadata": {
  "kernelspec": {
   "display_name": "Python 3 (ipykernel)",
   "language": "python",
   "name": "python3"
  },
  "language_info": {
   "codemirror_mode": {
    "name": "ipython",
    "version": 3
   },
   "file_extension": ".py",
   "mimetype": "text/x-python",
   "name": "python",
   "nbconvert_exporter": "python",
   "pygments_lexer": "ipython3",
   "version": "3.11.5"
  }
 },
 "nbformat": 4,
 "nbformat_minor": 5
}
