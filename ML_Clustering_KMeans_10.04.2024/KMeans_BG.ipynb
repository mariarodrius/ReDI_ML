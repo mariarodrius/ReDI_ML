{
 "cells": [
  {
   "cell_type": "code",
   "execution_count": null,
   "id": "3d431aa9",
   "metadata": {},
   "outputs": [],
   "source": [
    "## ML Clustering / DimRed\n",
    "## Clustering Techniques, e.g. kmeans, hierarchical clustering, density-based clustering"
   ]
  },
  {
   "cell_type": "code",
   "execution_count": null,
   "id": "6d61ac38",
   "metadata": {},
   "outputs": [],
   "source": [
    "# https://medium.com/@pakeezasaleem0/k-nearest-neighbor-vs-k-means-wheres-the-difference-8aa38fc044e5\n",
    "\n",
    "## KNN is a supervised machine learning algorithm used for classification, \n",
    "## while K means is an unsupervised machine learning algorithm used with the intention of clustering data points."
   ]
  },
  {
   "cell_type": "code",
   "execution_count": null,
   "id": "5dfe07ac",
   "metadata": {},
   "outputs": [],
   "source": [
    "inertia = []\n",
    "for k in range(1, 10):\n",
    "    kmeans = KMeans(n_clusters=k, random_state=123)\n",
    "    kmeans.fit(X)\n",
    "    inertia.append(kmeans.inertia_)\n",
    "df_inertia = pd.DataFrame({'k': range(1, 10), 'inertia': inertia})\n",
    "(ggplot(df_inertia) + aes(x='k', y='inertia') + geom_point() + geom_line())"
   ]
  },
  {
   "cell_type": "code",
   "execution_count": null,
   "id": "1b5d33fd",
   "metadata": {},
   "outputs": [],
   "source": [
    "#%% Packages\n",
    "\n",
    "import numpy as np\n",
    "import pandas as pd\n",
    "import random\n",
    "from sklearn.cluster import DBSCAN, KMeans"
   ]
  },
  {
   "cell_type": "code",
   "execution_count": null,
   "id": "496cde56",
   "metadata": {},
   "outputs": [],
   "source": [
    "# visualisation\n",
    "\n",
    "from plotnine import ggplot, aes, geom_point"
   ]
  },
  {
   "cell_type": "code",
   "execution_count": null,
   "id": "071abebe",
   "metadata": {},
   "outputs": [],
   "source": [
    "# %% Data Preparation\n",
    "\n",
    "num_points = 4000\n",
    "x = random.sample(population=set(np.linspace(start=-10, stop=10, num=num_points)), k=num_points)\n",
    "y = random.sample(population=set(np.linspace(start=-10, stop=10, num=num_points)), k=num_points)\n",
    "z = [(x**2 + y**2) for x, y in zip(x, y)]\n",
    "df = pd.DataFrame(list(zip(x, y, z)), columns=['x', 'y', 'z'])\n",
    "df['class'] = [1 if ((i<10) | (80 < i< 100))  else 0 for i in df['z']]"
   ]
  },
  {
   "cell_type": "code",
   "execution_count": null,
   "id": "a02394b1",
   "metadata": {},
   "outputs": [],
   "source": [
    "# We can clearly see two different patterns - an inner ring and an outer ring. \n",
    "# The task is to find an algorithm that can distinguish both classes.\n",
    "\n",
    "df = df[df['class']==1]  # filter for class 1\n",
    "df = df.drop(['z', 'class'], axis=1)  # delete not required columns"
   ]
  },
  {
   "cell_type": "code",
   "execution_count": null,
   "id": "1ae55ab9",
   "metadata": {},
   "outputs": [],
   "source": [
    "# %% Visualisation of results\n",
    "\n",
    "(ggplot(data=df) +\n",
    "  aes(x='x', y='y') +\n",
    "  geom_point()\n",
    ")"
   ]
  },
  {
   "cell_type": "code",
   "execution_count": null,
   "id": "7c934c81",
   "metadata": {},
   "outputs": [],
   "source": [
    "## Notes:\n",
    "\n",
    "## witeboard\n",
    "## https://claude.ai/login?returnTo=%2F\n",
    "## https://towardsdatascience.com/encoding-categorical-variables-in-machine-learning-5644a43c123f\n",
    "\n",
    "### One Hot encoding\n",
    "\n",
    "## from sklearn.preporocessing import LabelEncoder\n",
    "## from sklearn.preporocessing import OneHotEncoder\n",
    "## X['Cholesterol'] = label_encoder.fit_transform(X['Cholesterol'])\n",
    "## y = label_encoder.fit_transform(y)"
   ]
  }
 ],
 "metadata": {
  "kernelspec": {
   "display_name": "Python 3 (ipykernel)",
   "language": "python",
   "name": "python3"
  },
  "language_info": {
   "codemirror_mode": {
    "name": "ipython",
    "version": 3
   },
   "file_extension": ".py",
   "mimetype": "text/x-python",
   "name": "python",
   "nbconvert_exporter": "python",
   "pygments_lexer": "ipython3",
   "version": "3.11.5"
  }
 },
 "nbformat": 4,
 "nbformat_minor": 5
}
