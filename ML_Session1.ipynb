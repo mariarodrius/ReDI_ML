{
 "cells": [
  {
   "cell_type": "code",
   "execution_count": null,
   "id": "7933b16d",
   "metadata": {},
   "outputs": [],
   "source": [
    "  to  Everyone\n",
    "#%% 1. Write a program to print the Fibonacci sequence up to a given number of terms.\n",
    "\n",
    "def fibonacci(n):\n",
    "    pass\n",
    "\n",
    "print(fibonacci(10))  # Output: [0, 1, 1, 2, 3, 5, 8, 13, 21, 34]\n",
    "\n",
    "#%% 2. Write a function to reverse a given string.\n",
    "def reverse_string(string):\n",
    "    pass\n",
    "\n",
    "print(reverse_string(\"Hello, World!\"))  # Output: !dlroW ,olleH\n",
    "\n",
    "\n",
    "# %% 3. Write a function to check if a given string is a palindrome.\n",
    "def is_palindrome(string):\n",
    "    pass\n",
    "\n",
    "print(is_palindrome(\"A man a plan a canal Panama\"))  # Output: True\n",
    "print(is_palindrome(\"Hello, World!\"))  # Output: False\n",
    "\n",
    "#%% 4. Use list comprehension to generate a list of squares of numbers from 1 to 10.\n",
    "# print(squares)  # Output: [1, 4, 9, 16, 25, 36, 49, 64, 81, 100]\n",
    "#%% 1. Write a program to print the Fibonacci sequence up to a given number of terms.\n",
    "\n",
    "def fibonacci(n):\n",
    "    pass\n",
    "\n",
    "print(fibonacci(10))  # Output: [0, 1, 1, 2, 3, 5, 8, 13, 21, 34]\n",
    "\n",
    "#%% 2. Write a function to reverse a given string.\n",
    "def reverse_string(string):\n",
    "    pass\n",
    "\n",
    "print(reverse_string(\"Hello, World!\"))  # Output: !dlroW ,olleH\n",
    "\n",
    "\n",
    "# %% 3. Write a function to check if a given string is a palindrome.\n",
    "def is_palindrome(string):\n",
    "    pass\n",
    "\n",
    "print(is_palindrome(\"A man a plan a canal Panama\"))  # Output: True\n",
    "print(is_palindrome(\"Hello, World!\"))  # Output: False\n",
    "\n",
    "#%% 4. Use list comprehension to generate a list of squares of numbers from 1 to 10.\n",
    "# print(squares)  # Output: [1, 4, 9, 16, 25, 36, 49, 64, 81, 100]\n",
    "#%% 5. Create a class Rectangle with attributes length and width, and methods to calculate the area and perimeter.\n",
    "class Rectangle:\n",
    "    pass\n",
    "\n",
    "rect = Rectangle(5, 3)\n",
    "print(f\"Area: {rect.area()}\")  # Output: Area: 15\n",
    "print(f\"Perimeter: {rect.perimeter()}\")  # Output: Perimeter: 16\n",
    "\n",
    "#%% 6. Write a function to count the number of vowels in a given string.\n",
    "def count_vowels(string):\n",
    "    pass\n",
    "\n",
    "print(count_vowels(\"Hello, World!\"))  # Output: 3\n",
    "\n",
    "#%% 7. Anagram check\n",
    "# Write a function to check if two given strings are anagrams of each other.\n",
    "def is_anagram(str1, str2):\n",
    "    pass\n",
    "\n",
    "print(is_anagram(\"listen\", \"silent\"))  # Output: True\n",
    "print(is_anagram(\"python\", \"java\"))  # Output: False\n",
    "\n",
    "#%% 8. Flatten a nested List\n",
    "# Write a function to flatten a given nested list.\n",
    "def flatten_list(nested_list):\n",
    "   pass\n",
    "\n",
    "nested_list = [1, 2, [3, 4], [[5, 6], [7]], 8]\n",
    "print(flatten_list(nested_list))  # Output: [1, 2, 3, 4, 5, 6, 7, 8]"
   ]
  },
  {
   "cell_type": "code",
   "execution_count": 2,
   "id": "e6e99102",
   "metadata": {},
   "outputs": [],
   "source": [
    "import numpy as np"
   ]
  },
  {
   "cell_type": "code",
   "execution_count": 5,
   "id": "4167702c",
   "metadata": {},
   "outputs": [
    {
     "name": "stdout",
     "output_type": "stream",
     "text": [
      "34\n"
     ]
    }
   ],
   "source": [
    "def Fibonacci(n):\n",
    " \n",
    "    # Check if input is 0 then it will\n",
    "    # print incorrect input\n",
    "    if n < 0:\n",
    "        print(\"Incorrect input\")\n",
    " \n",
    "    # Check if n is 0\n",
    "    # then it will return 0\n",
    "    elif n == 0:\n",
    "        return 0\n",
    " \n",
    "    # Check if n is 1,2\n",
    "    # it will return 1\n",
    "    elif n == 1 or n == 2:\n",
    "        return 1\n",
    " \n",
    "    else:\n",
    "        return Fibonacci(n-1) + Fibonacci(n-2)\n",
    " \n",
    " \n",
    "# Driver Program\n",
    "print(Fibonacci(9))"
   ]
  },
  {
   "cell_type": "code",
   "execution_count": 7,
   "id": "bfabb66c",
   "metadata": {},
   "outputs": [
    {
     "name": "stdout",
     "output_type": "stream",
     "text": [
      "How many terms? 10\n",
      "Fibonacci sequence:\n",
      "0\n",
      "1\n",
      "1\n",
      "2\n",
      "3\n",
      "5\n",
      "8\n",
      "13\n",
      "21\n",
      "34\n"
     ]
    }
   ],
   "source": [
    "nterms = int(input(\"How many terms? \"))\n",
    "\n",
    "# first two terms\n",
    "n1, n2 = 0, 1\n",
    "count = 0\n",
    "\n",
    "# check if the number of terms is valid\n",
    "if nterms <= 0:\n",
    "   print(\"Please enter a positive integer\")\n",
    "# if there is only one term, return n1\n",
    "elif nterms == 1:\n",
    "   print(\"Fibonacci sequence upto\",nterms,\":\")\n",
    "   print(n1)\n",
    "# generate fibonacci sequence\n",
    "else:\n",
    "   print(\"Fibonacci sequence:\")\n",
    "   while count < nterms:\n",
    "       print(n1)\n",
    "       nth = n1 + n2\n",
    "       # update values\n",
    "       n1 = n2\n",
    "       n2 = nth\n",
    "       count += 1"
   ]
  },
  {
   "cell_type": "code",
   "execution_count": null,
   "id": "c3e52315",
   "metadata": {},
   "outputs": [],
   "source": [
    "def"
   ]
  }
 ],
 "metadata": {
  "kernelspec": {
   "display_name": "Python 3 (ipykernel)",
   "language": "python",
   "name": "python3"
  },
  "language_info": {
   "codemirror_mode": {
    "name": "ipython",
    "version": 3
   },
   "file_extension": ".py",
   "mimetype": "text/x-python",
   "name": "python",
   "nbconvert_exporter": "python",
   "pygments_lexer": "ipython3",
   "version": "3.11.5"
  }
 },
 "nbformat": 4,
 "nbformat_minor": 5
}
