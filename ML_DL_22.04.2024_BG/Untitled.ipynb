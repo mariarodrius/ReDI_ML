{
 "cells": [
  {
   "cell_type": "code",
   "execution_count": 1,
   "id": "e3b5d96e",
   "metadata": {},
   "outputs": [],
   "source": [
    "# https://elevenlabs.io/ clone the voice\n",
    "# vasa microsoft singing face\n",
    "\n",
    "# https://www.udemy.com/course/pytorch-ultimate/?couponCode=CODESKILLS2024    valid from 25.04. to 30.04.\n",
    "\n",
    "# https://github.com/ReDI-School/hh-dcp-machine-learning\n",
    "\n",
    "# Pytorch or TensorFlow as DL Frameworks\n",
    "\n",
    "# !pip install torch"
   ]
  },
  {
   "cell_type": "code",
   "execution_count": 2,
   "id": "65b7c828",
   "metadata": {},
   "outputs": [],
   "source": [
    "# https://www.geeksforgeeks.org/differences-and-applications-of-list-tuple-set-and-dictionary-in-python/    Refresher"
   ]
  },
  {
   "cell_type": "code",
   "execution_count": 3,
   "id": "ea455a37",
   "metadata": {},
   "outputs": [],
   "source": [
    "import numpy as np"
   ]
  },
  {
   "cell_type": "code",
   "execution_count": 4,
   "id": "e2c82e1c",
   "metadata": {},
   "outputs": [],
   "source": [
    "import pandas as pd"
   ]
  },
  {
   "cell_type": "code",
   "execution_count": 5,
   "id": "c1700ac0",
   "metadata": {},
   "outputs": [],
   "source": [
    "import torch\n",
    "import torch.nn as nn \n",
    "import seaborn as sns"
   ]
  },
  {
   "cell_type": "code",
   "execution_count": 6,
   "id": "053ab25b",
   "metadata": {},
   "outputs": [
    {
     "data": {
      "text/html": [
       "<div>\n",
       "<style scoped>\n",
       "    .dataframe tbody tr th:only-of-type {\n",
       "        vertical-align: middle;\n",
       "    }\n",
       "\n",
       "    .dataframe tbody tr th {\n",
       "        vertical-align: top;\n",
       "    }\n",
       "\n",
       "    .dataframe thead th {\n",
       "        text-align: right;\n",
       "    }\n",
       "</style>\n",
       "<table border=\"1\" class=\"dataframe\">\n",
       "  <thead>\n",
       "    <tr style=\"text-align: right;\">\n",
       "      <th></th>\n",
       "      <th>Unnamed: 0</th>\n",
       "      <th>mpg</th>\n",
       "      <th>cyl</th>\n",
       "      <th>disp</th>\n",
       "      <th>hp</th>\n",
       "      <th>drat</th>\n",
       "      <th>wt</th>\n",
       "      <th>qsec</th>\n",
       "      <th>vs</th>\n",
       "      <th>am</th>\n",
       "      <th>gear</th>\n",
       "      <th>carb</th>\n",
       "    </tr>\n",
       "  </thead>\n",
       "  <tbody>\n",
       "    <tr>\n",
       "      <th>0</th>\n",
       "      <td>Mazda RX4</td>\n",
       "      <td>21.0</td>\n",
       "      <td>6</td>\n",
       "      <td>160.0</td>\n",
       "      <td>110</td>\n",
       "      <td>3.90</td>\n",
       "      <td>2.620</td>\n",
       "      <td>16.46</td>\n",
       "      <td>0</td>\n",
       "      <td>1</td>\n",
       "      <td>4</td>\n",
       "      <td>4</td>\n",
       "    </tr>\n",
       "    <tr>\n",
       "      <th>1</th>\n",
       "      <td>Mazda RX4 Wag</td>\n",
       "      <td>21.0</td>\n",
       "      <td>6</td>\n",
       "      <td>160.0</td>\n",
       "      <td>110</td>\n",
       "      <td>3.90</td>\n",
       "      <td>2.875</td>\n",
       "      <td>17.02</td>\n",
       "      <td>0</td>\n",
       "      <td>1</td>\n",
       "      <td>4</td>\n",
       "      <td>4</td>\n",
       "    </tr>\n",
       "    <tr>\n",
       "      <th>2</th>\n",
       "      <td>Datsun 710</td>\n",
       "      <td>22.8</td>\n",
       "      <td>4</td>\n",
       "      <td>108.0</td>\n",
       "      <td>93</td>\n",
       "      <td>3.85</td>\n",
       "      <td>2.320</td>\n",
       "      <td>18.61</td>\n",
       "      <td>1</td>\n",
       "      <td>1</td>\n",
       "      <td>4</td>\n",
       "      <td>1</td>\n",
       "    </tr>\n",
       "    <tr>\n",
       "      <th>3</th>\n",
       "      <td>Hornet 4 Drive</td>\n",
       "      <td>21.4</td>\n",
       "      <td>6</td>\n",
       "      <td>258.0</td>\n",
       "      <td>110</td>\n",
       "      <td>3.08</td>\n",
       "      <td>3.215</td>\n",
       "      <td>19.44</td>\n",
       "      <td>1</td>\n",
       "      <td>0</td>\n",
       "      <td>3</td>\n",
       "      <td>1</td>\n",
       "    </tr>\n",
       "    <tr>\n",
       "      <th>4</th>\n",
       "      <td>Hornet Sportabout</td>\n",
       "      <td>18.7</td>\n",
       "      <td>8</td>\n",
       "      <td>360.0</td>\n",
       "      <td>175</td>\n",
       "      <td>3.15</td>\n",
       "      <td>3.440</td>\n",
       "      <td>17.02</td>\n",
       "      <td>0</td>\n",
       "      <td>0</td>\n",
       "      <td>3</td>\n",
       "      <td>2</td>\n",
       "    </tr>\n",
       "  </tbody>\n",
       "</table>\n",
       "</div>"
      ],
      "text/plain": [
       "          Unnamed: 0   mpg  cyl   disp   hp  drat     wt   qsec  vs  am  gear  \\\n",
       "0          Mazda RX4  21.0    6  160.0  110  3.90  2.620  16.46   0   1     4   \n",
       "1      Mazda RX4 Wag  21.0    6  160.0  110  3.90  2.875  17.02   0   1     4   \n",
       "2         Datsun 710  22.8    4  108.0   93  3.85  2.320  18.61   1   1     4   \n",
       "3     Hornet 4 Drive  21.4    6  258.0  110  3.08  3.215  19.44   1   0     3   \n",
       "4  Hornet Sportabout  18.7    8  360.0  175  3.15  3.440  17.02   0   0     3   \n",
       "\n",
       "   carb  \n",
       "0     4  \n",
       "1     4  \n",
       "2     1  \n",
       "3     1  \n",
       "4     2  "
      ]
     },
     "execution_count": 6,
     "metadata": {},
     "output_type": "execute_result"
    }
   ],
   "source": [
    "#%% data import\n",
    "# cars_file = 'https://gist.githubusercontent.com/noamross/e5d3e859aa0c794be10b/raw/b999fb4425b54c63cab088c0ce2c0d6ce961a563/cars.csv'\n",
    "cars_file = 'cars.csv'\n",
    "cars = pd.read_csv(cars_file)\n",
    "cars.head()\n"
   ]
  },
  {
   "cell_type": "code",
   "execution_count": null,
   "id": "916477bd",
   "metadata": {},
   "outputs": [],
   "source": [
    "#%% visualise the model\n",
    "sns.scatterplot(x='wt', y='mpg', data=cars)\n",
    "sns.regplot(x='wt', y='mpg', data=cars)"
   ]
  },
  {
   "cell_type": "code",
   "execution_count": null,
   "id": "795e3dca",
   "metadata": {},
   "outputs": [],
   "source": [
    "#%% convert data to tensor\n",
    "X_list = cars.wt.values\n",
    "X_np = np.array(X_list, dtype=np.float32).reshape(-1,1)\n",
    "y_list = cars.mpg.values\n",
    "y_np = np.array(y_list, dtype=np.float32).reshape(-1,1)\n",
    "X = torch.from_numpy(X_np)\n",
    "y_true = torch.from_numpy(y_np)"
   ]
  },
  {
   "cell_type": "code",
   "execution_count": null,
   "id": "2c70fbb9",
   "metadata": {},
   "outputs": [],
   "source": [
    "#%%\n",
    "class LinearRegressionTorch(nn.Module):\n",
    "    def __init__(self, input_size, output_size):\n",
    "        super(LinearRegressionTorch, self).__init__()\n",
    "        self.linear = nn.Linear(input_size, output_size)\n",
    "    \n",
    "    def forward(self, x):\n",
    "        return self.linear(x)\n",
    "\n",
    "input_dim = 1\n",
    "output_dim = 1\n",
    "model = LinearRegressionTorch(input_size=input_dim, output_size=output_dim)"
   ]
  },
  {
   "cell_type": "code",
   "execution_count": null,
   "id": "aac408c3",
   "metadata": {},
   "outputs": [],
   "source": [
    "# %% Mean Squared Error\n",
    "loss_fun = nn.MSELoss()"
   ]
  },
  {
   "cell_type": "code",
   "execution_count": null,
   "id": "8acae8d9",
   "metadata": {},
   "outputs": [],
   "source": [
    "#%% Optimizer\n",
    "LR = 0.02\n",
    "# test different values of too large 0.1 and too small 0.001\n",
    "# best 0.02\n",
    "optimizer = torch.optim.SGD(model.parameters(), lr=LR)"
   ]
  },
  {
   "cell_type": "code",
   "execution_count": null,
   "id": "e7b2984d",
   "metadata": {},
   "outputs": [],
   "source": [
    "#%% perform training\n",
    "losses, slope, bias = [], [], []\n",
    "NUM_EPOCHS = 1000\n",
    "for epoch in range(NUM_EPOCHS):\n",
    "    \n",
    "    # set gradients to zero\n",
    "    optimizer.zero_grad()\n",
    "\n",
    "    # forward pass\n",
    "    y_pred = model(X)\n",
    "\n",
    "    # calculate loss\n",
    "    loss = loss_fun(y_pred, y_true)\n",
    "    loss.backward()\n",
    "\n",
    "    # update parameters\n",
    "    optimizer.step()\n",
    "\n",
    "    # get parameters\n",
    "    for name, param in model.named_parameters():\n",
    "        if param.requires_grad:\n",
    "            if name == 'linear.weight':\n",
    "                slope.append(param.data.numpy()[0][0])\n",
    "            if name == 'linear.bias':\n",
    "                bias.append(param.data.numpy()[0])\n",
    "\n",
    "\n",
    "    # store loss\n",
    "    losses.append(float(loss.data))\n",
    "    # print loss\n",
    "    if (epoch % 100 == 0):\n",
    "        print(f\"Epoch {epoch}, Loss: {loss.data}\")"
   ]
  },
  {
   "cell_type": "code",
   "execution_count": null,
   "id": "8ecc9265",
   "metadata": {},
   "outputs": [],
   "source": [
    "# %% visualise model training\n",
    "sns.scatterplot(x=range(NUM_EPOCHS), y=losses)"
   ]
  },
  {
   "cell_type": "code",
   "execution_count": null,
   "id": "1b23d35e",
   "metadata": {},
   "outputs": [],
   "source": [
    "#%% visualise the bias development\n",
    "sns.lineplot(x=range(NUM_EPOCHS), y=bias)\n",
    "#%% visualise the slope development\n",
    "sns.lineplot(x=range(NUM_EPOCHS), y=slope)"
   ]
  },
  {
   "cell_type": "code",
   "execution_count": null,
   "id": "d06d4a31",
   "metadata": {},
   "outputs": [],
   "source": [
    "# %% check the result\n",
    "y_pred = model(X).data.numpy().reshape(-1)\n",
    "sns.scatterplot(x=X_list, y=y_list)\n",
    "sns.lineplot(x=X_list, y=y_pred, color='red')\n",
    "# %%"
   ]
  }
 ],
 "metadata": {
  "kernelspec": {
   "display_name": "Python 3 (ipykernel)",
   "language": "python",
   "name": "python3"
  },
  "language_info": {
   "codemirror_mode": {
    "name": "ipython",
    "version": 3
   },
   "file_extension": ".py",
   "mimetype": "text/x-python",
   "name": "python",
   "nbconvert_exporter": "python",
   "pygments_lexer": "ipython3",
   "version": "3.11.9"
  }
 },
 "nbformat": 4,
 "nbformat_minor": 5
}
