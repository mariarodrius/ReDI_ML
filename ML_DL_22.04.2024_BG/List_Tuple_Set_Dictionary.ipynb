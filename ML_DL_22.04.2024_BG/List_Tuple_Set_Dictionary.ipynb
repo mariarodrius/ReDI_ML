{
 "cells": [
  {
   "cell_type": "code",
   "execution_count": 1,
   "id": "5c51d9a7",
   "metadata": {},
   "outputs": [],
   "source": [
    "# https://www.geeksforgeeks.org/differences-and-applications-of-list-tuple-set-and-dictionary-in-python/\n",
    "# Python3 program for explaining\n",
    "# use of list, tuple, set and \n",
    "# dictionary"
   ]
  },
  {
   "cell_type": "code",
   "execution_count": 2,
   "id": "6f4972fe",
   "metadata": {},
   "outputs": [
    {
     "name": "stdout",
     "output_type": "stream",
     "text": [
      "Adding 5 and 10 in list [5, 10]\n",
      "Popped one element from list [5]\n",
      "\n"
     ]
    }
   ],
   "source": [
    "# Lists\n",
    "l = []\n",
    " \n",
    "# Adding Element into list\n",
    "l.append(5)\n",
    "l.append(10)\n",
    "print(\"Adding 5 and 10 in list\", l)\n",
    " \n",
    "# Popping Elements from list\n",
    "l.pop()\n",
    "print(\"Popped one element from list\", l)\n",
    "print()"
   ]
  },
  {
   "cell_type": "code",
   "execution_count": 3,
   "id": "b71aabfc",
   "metadata": {},
   "outputs": [
    {
     "name": "stdout",
     "output_type": "stream",
     "text": [
      "Adding 5 and 10 in set {10, 5}\n",
      "Removing 5 from set {10}\n",
      "\n"
     ]
    }
   ],
   "source": [
    "# Set\n",
    "s = set()\n",
    " \n",
    "# Adding element into set\n",
    "s.add(5)\n",
    "s.add(10)\n",
    "print(\"Adding 5 and 10 in set\", s)\n",
    " \n",
    "# Removing element from set\n",
    "s.remove(5)\n",
    "print(\"Removing 5 from set\", s)\n",
    "print()"
   ]
  },
  {
   "cell_type": "code",
   "execution_count": 4,
   "id": "52eb1048",
   "metadata": {},
   "outputs": [
    {
     "name": "stdout",
     "output_type": "stream",
     "text": [
      "Tuple (5,)\n",
      "\n"
     ]
    }
   ],
   "source": [
    "# Tuple\n",
    "t = tuple(l)\n",
    " \n",
    "# Tuples are immutable\n",
    "print(\"Tuple\", t)\n",
    "print()"
   ]
  },
  {
   "cell_type": "code",
   "execution_count": 5,
   "id": "402ad860",
   "metadata": {},
   "outputs": [
    {
     "name": "stdout",
     "output_type": "stream",
     "text": [
      "Dictionary {5: 'Five', 10: 'Ten'}\n",
      "Dictionary {5: 'Five'}\n"
     ]
    }
   ],
   "source": [
    "# Dictionary\n",
    "d = {}\n",
    " \n",
    "# Adding the key value pair\n",
    "d[5] = \"Five\"\n",
    "d[10] = \"Ten\"\n",
    "print(\"Dictionary\", d)\n",
    " \n",
    "# Removing key-value pair\n",
    "del d[10]\n",
    "print(\"Dictionary\", d)"
   ]
  }
 ],
 "metadata": {
  "kernelspec": {
   "display_name": "Python 3 (ipykernel)",
   "language": "python",
   "name": "python3"
  },
  "language_info": {
   "codemirror_mode": {
    "name": "ipython",
    "version": 3
   },
   "file_extension": ".py",
   "mimetype": "text/x-python",
   "name": "python",
   "nbconvert_exporter": "python",
   "pygments_lexer": "ipython3",
   "version": "3.11.5"
  }
 },
 "nbformat": 4,
 "nbformat_minor": 5
}
