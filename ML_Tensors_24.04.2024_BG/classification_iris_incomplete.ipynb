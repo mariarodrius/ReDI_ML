{
 "cells": [
  {
   "cell_type": "code",
   "execution_count": 1,
   "id": "df53f042",
   "metadata": {},
   "outputs": [],
   "source": [
    "import torch\n",
    "import torch.nn as nn\n",
    "from torch.utils.data import Dataset, DataLoader\n",
    "from sklearn.datasets import load_iris\n",
    "from sklearn.model_selection import train_test_split"
   ]
  },
  {
   "cell_type": "code",
   "execution_count": null,
   "id": "2c2c4347",
   "metadata": {},
   "outputs": [],
   "source": [
    "#hyperparameters (to be added after running the code until after the loss function)\n",
    "\n",
    "LR = 0.1       ## learning rate\n",
    "BS = 8         ## Batch size\n",
    "EPOCHS = 100   ## repetitions "
   ]
  },
  {
   "cell_type": "code",
   "execution_count": 3,
   "id": "ebca65b4",
   "metadata": {},
   "outputs": [],
   "source": [
    "iris = load_iris()"
   ]
  },
  {
   "cell_type": "code",
   "execution_count": 4,
   "id": "467dbf14",
   "metadata": {},
   "outputs": [],
   "source": [
    "X = iris.data\n",
    "y = iris.target"
   ]
  },
  {
   "cell_type": "code",
   "execution_count": 5,
   "id": "0d089b2b",
   "metadata": {},
   "outputs": [],
   "source": [
    "X_train, X_test, y_train, y_test = train_test_split(\n",
    "    X, y, test_size=0.2, random_state=42)"
   ]
  },
  {
   "cell_type": "code",
   "execution_count": 7,
   "id": "3b72b516",
   "metadata": {},
   "outputs": [],
   "source": [
    "## Dataset and dataloader\n",
    "\n",
    "class IrisData(Dataset):\n",
    "    def __init__(self, X, y):\n",
    "        self.X = X\n",
    "        self.y = y\n",
    "        self.len = self.X.shape[0]\n",
    "    \n",
    "    def __getitem__(self, index):\n",
    "        return self.X[index], self.y[index]\n",
    "\n",
    "    def __len__(self):        ## https://www.geeksforgeeks.org/python-__len__-magic-method/ \n",
    "        return self.len  "
   ]
  },
  {
   "cell_type": "code",
   "execution_count": 8,
   "id": "658a41e2",
   "metadata": {},
   "outputs": [],
   "source": [
    "iris_data = IrisData(X=X_train, y=y_train)"
   ]
  },
  {
   "cell_type": "code",
   "execution_count": 9,
   "id": "c85423be",
   "metadata": {},
   "outputs": [],
   "source": [
    "train_loader = DataLoader(dataset=iris_data, batch_size=8)"
   ]
  },
  {
   "cell_type": "code",
   "execution_count": null,
   "id": "6c43a385",
   "metadata": {},
   "outputs": [],
   "source": [
    "# train_loader = DataLoader(dataset = LinearRegressionDataset\n",
    "#                         (X.np, y.np), batch_size=2)  ## batch to select part of the data instead of all the data"
   ]
  },
  {
   "cell_type": "code",
   "execution_count": 11,
   "id": "c82ab226",
   "metadata": {},
   "outputs": [],
   "source": [
    "## define network\n",
    "\n",
    "class Net(nn.Module):   ## creating an inheritance class NET from the parent class MODULE\n",
    "    def __init__(self):\n",
    "        super().__init__()   ## needed to get some features from the parent (or SUPER) class MODULE\n",
    "        self.lin1 = nn.Linear(infeatures=4, out_features=6)  ## a first linear layer with input neurons in the layer, 4 neurons, and 6 neurons in the hidden layer\n",
    "        self.lin2 = nn.Linear(infeatures=6, out_features=3)  ## the 'in' features MUST be the same number as the 'out' features from the line before, i.e 6\n",
    "        ## we have three classess so we have three output features!!\n",
    "        self.softmax = nn.LogSoftmax(dim=1)\n",
    "        ## activation function softmax for three classess. for two cold be sigmoid activation function for example...\n",
    "        \n",
    "    def forward(self, x):  ##establishing the path forward from layer 1 to the next\n",
    "        x = self.lin1(x)    ## passing and rewriting in x\n",
    "        x = self.lin2(x)\n",
    "        x = self.softmax(x)  ## writing the result from the activation function\n",
    "        return x"
   ]
  },
  {
   "cell_type": "code",
   "execution_count": 12,
   "id": "5a8527ab",
   "metadata": {},
   "outputs": [
    {
     "ename": "TypeError",
     "evalue": "Linear.__init__() got an unexpected keyword argument 'infeatures'",
     "output_type": "error",
     "traceback": [
      "\u001b[1;31m---------------------------------------------------------------------------\u001b[0m",
      "\u001b[1;31mTypeError\u001b[0m                                 Traceback (most recent call last)",
      "Cell \u001b[1;32mIn[12], line 2\u001b[0m\n\u001b[0;32m      1\u001b[0m \u001b[38;5;66;03m# Model instance\u001b[39;00m\n\u001b[1;32m----> 2\u001b[0m model \u001b[38;5;241m=\u001b[39m Net()\n",
      "Cell \u001b[1;32mIn[11], line 6\u001b[0m, in \u001b[0;36mNet.__init__\u001b[1;34m(self)\u001b[0m\n\u001b[0;32m      4\u001b[0m \u001b[38;5;28;01mdef\u001b[39;00m \u001b[38;5;21m__init__\u001b[39m(\u001b[38;5;28mself\u001b[39m):\n\u001b[0;32m      5\u001b[0m     \u001b[38;5;28msuper\u001b[39m()\u001b[38;5;241m.\u001b[39m\u001b[38;5;21m__init__\u001b[39m()\n\u001b[1;32m----> 6\u001b[0m     \u001b[38;5;28mself\u001b[39m\u001b[38;5;241m.\u001b[39mlin1 \u001b[38;5;241m=\u001b[39m nn\u001b[38;5;241m.\u001b[39mLinear(infeatures\u001b[38;5;241m=\u001b[39m\u001b[38;5;241m4\u001b[39m, out_features\u001b[38;5;241m=\u001b[39m\u001b[38;5;241m6\u001b[39m)  \u001b[38;5;66;03m## a first linear layer with input neurons in the layer, 4 neurons, and 6 neurons in the hidden layer\u001b[39;00m\n\u001b[0;32m      7\u001b[0m     \u001b[38;5;28mself\u001b[39m\u001b[38;5;241m.\u001b[39mlin2 \u001b[38;5;241m=\u001b[39m nn\u001b[38;5;241m.\u001b[39mLinear(infeatures\u001b[38;5;241m=\u001b[39m\u001b[38;5;241m6\u001b[39m, out_features\u001b[38;5;241m=\u001b[39m\u001b[38;5;241m3\u001b[39m)  \u001b[38;5;66;03m## the 'in' features MUST be the same number as the 'out' features from the line before, i.e 6\u001b[39;00m\n\u001b[0;32m      8\u001b[0m     \u001b[38;5;66;03m## we have three classess so we have three output features!!\u001b[39;00m\n",
      "\u001b[1;31mTypeError\u001b[0m: Linear.__init__() got an unexpected keyword argument 'infeatures'"
     ]
    }
   ],
   "source": [
    "# Model instance\n",
    "model = Net()"
   ]
  },
  {
   "cell_type": "code",
   "execution_count": null,
   "id": "33ef9278",
   "metadata": {},
   "outputs": [],
   "source": [
    "## Loss function\n",
    "\n",
    "loss_fn = nn.CrossEntropyLoss()"
   ]
  },
  {
   "cell_type": "code",
   "execution_count": null,
   "id": "8897b39f",
   "metadata": {},
   "outputs": [],
   "source": [
    "## Optimizer\n",
    "optimizer = torch.optim.Adam(model.parameters(), lr=LR)"
   ]
  },
  {
   "cell_type": "code",
   "execution_count": null,
   "id": "b3303158",
   "metadata": {},
   "outputs": [],
   "source": []
  }
 ],
 "metadata": {
  "kernelspec": {
   "display_name": "Python 3 (ipykernel)",
   "language": "python",
   "name": "python3"
  },
  "language_info": {
   "codemirror_mode": {
    "name": "ipython",
    "version": 3
   },
   "file_extension": ".py",
   "mimetype": "text/x-python",
   "name": "python",
   "nbconvert_exporter": "python",
   "pygments_lexer": "ipython3",
   "version": "3.11.9"
  }
 },
 "nbformat": 4,
 "nbformat_minor": 5
}
