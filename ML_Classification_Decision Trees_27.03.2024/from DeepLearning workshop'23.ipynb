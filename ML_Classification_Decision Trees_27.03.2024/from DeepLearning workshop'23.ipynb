{
 "cells": [
  {
   "cell_type": "code",
   "execution_count": null,
   "id": "a96ad9c7",
   "metadata": {},
   "outputs": [],
   "source": [
    "#%% packages\n",
    "import pandas as pd\n",
    "from sklearn.linear_model import LogisticRegression\n",
    "from sklearn.metrics import accuracy_score\n",
    "from sklearn.model_selection import train_test_split\n",
    "from sklearn.preprocessing import StandardScaler\n",
    "import seaborn as sns\n",
    "\n",
    "#%% data import\n",
    "# We will predict heart disease events based on 11 independent features.\n",
    "\n",
    "# - Age: age of the patient [years]\n",
    "# - Sex: sex of the patient [M: Male, F: Female]\n",
    "# - ChestPainType: chest pain type [TA: Typical Angina, ATA: Atypical Angina, NAP: Non-Anginal Pain, ASY: Asymptomatic]\n",
    "# - RestingBP: resting blood pressure [mm Hg]\n",
    "# - Cholesterol: serum cholesterol [mm/dl]\n",
    "# - FastingBS: fasting blood sugar [1: if FastingBS > 120 mg/dl, 0: otherwise]\n",
    "# - RestingECG: resting electrocardiogram results [Normal: Normal, ST: having ST-T wave abnormality (T wave inversions and/or ST elevation or depression of > 0.05 mV), LVH: showing probable or definite left ventricular hypertrophy by Estes' criteria]\n",
    "# - MaxHR: maximum heart rate achieved [Numeric value between 60 and 202]\n",
    "# - ExerciseAngina: exercise-induced angina [Y: Yes, N: No]\n",
    "# - Oldpeak: oldpeak = ST [Numeric value measured in depression]\n",
    "# - ST_Slope: the slope of the peak exercise ST segment [Up: upsloping, Flat: flat, Down: downsloping]\n",
    "\n",
    "# Dependent Feature:\n",
    "# - HeartDisease: output class [1: heart disease, 0: Normal]\n"
   ]
  },
  {
   "cell_type": "code",
   "execution_count": null,
   "id": "c058b7c4",
   "metadata": {},
   "outputs": [],
   "source": [
    "heart = pd.read_csv('data/heart.csv')\n",
    "heart.head()"
   ]
  },
  {
   "cell_type": "code",
   "execution_count": null,
   "id": "0e7ea7af",
   "metadata": {},
   "outputs": [],
   "source": [
    "#%% Correlation Matrix\n",
    "sns.heatmap(heart.select_dtypes(include='number').corr(), annot=True)\n",
    "#%% visualise the model\n",
    "sns.pairplot(heart, hue='HeartDisease')"
   ]
  },
  {
   "cell_type": "code",
   "execution_count": null,
   "id": "59c0bb34",
   "metadata": {},
   "outputs": [],
   "source": [
    "#%% column info\n",
    "heart.info()\n",
    "heart.describe()"
   ]
  },
  {
   "cell_type": "code",
   "execution_count": null,
   "id": "4941a87c",
   "metadata": {},
   "outputs": [],
   "source": [
    "#%% Categorical Feature Treatment\n",
    "heart_dummies = pd.get_dummies(heart, dtype=float)"
   ]
  },
  {
   "cell_type": "code",
   "execution_count": null,
   "id": "37d35d40",
   "metadata": {},
   "outputs": [],
   "source": [
    "#%% Separate Independent and Dependent Variables\n",
    "X = heart_dummies.drop('HeartDisease',axis=1)\n",
    "y = heart_dummies['HeartDisease']"
   ]
  },
  {
   "cell_type": "code",
   "execution_count": null,
   "id": "4b48e14c",
   "metadata": {},
   "outputs": [],
   "source": [
    "#%% Naive Baseline\n",
    "from collections import Counter\n",
    "target_cnt = Counter(heart['HeartDisease'])\n",
    "target_cnt\n",
    "\n",
    "naive_accuracy = target_cnt[max(target_cnt)] / len(heart['HeartDisease']) * 100\n",
    "print(f\"Pure Guessing results in an accuracy of {naive_accuracy}.\")"
   ]
  },
  {
   "cell_type": "code",
   "execution_count": null,
   "id": "34fe80e3",
   "metadata": {},
   "outputs": [],
   "source": [
    "#%% Train Test Split\n",
    "X_train , X_test , y_train , y_test = train_test_split(X, y, test_size=0.2, random_state=42)\n",
    "print(X_train.shape)\n",
    "print(X_test.shape)\n",
    "print(y_train.shape)\n",
    "print(y_test.shape)"
   ]
  },
  {
   "cell_type": "code",
   "execution_count": null,
   "id": "90a82850",
   "metadata": {},
   "outputs": [],
   "source": [
    "# %% Scale the data\n",
    "scaler = StandardScaler()\n",
    "scaler.fit(X_train)"
   ]
  },
  {
   "cell_type": "code",
   "execution_count": null,
   "id": "fb7f25cf",
   "metadata": {},
   "outputs": [],
   "source": [
    "# %% Scale the data\n",
    "X_train_scaled = scaler.fit_transform(X_train)\n",
    "X_train_scaled"
   ]
  },
  {
   "cell_type": "code",
   "execution_count": null,
   "id": "7ab178ea",
   "metadata": {},
   "outputs": [],
   "source": [
    "# %%\n",
    "X_test_scaled = scaler.transform(X_test)"
   ]
  },
  {
   "cell_type": "code",
   "execution_count": null,
   "id": "d43c47ba",
   "metadata": {},
   "outputs": [],
   "source": [
    "# %% Model\n",
    "model = LogisticRegression()\n",
    "model.fit(X_train_scaled, y_train)"
   ]
  },
  {
   "cell_type": "code",
   "execution_count": null,
   "id": "b9bc2ad6",
   "metadata": {},
   "outputs": [],
   "source": [
    "# %% Predictions\n",
    "y_pred_test = model.predict(X_test_scaled)"
   ]
  },
  {
   "cell_type": "code",
   "execution_count": null,
   "id": "9f39eea0",
   "metadata": {},
   "outputs": [],
   "source": [
    "# %% Check the predictions\n",
    "print(f\"Accuracy: {accuracy_score(y_test, y_pred_test)}\")"
   ]
  }
 ],
 "metadata": {
  "kernelspec": {
   "display_name": "Python 3 (ipykernel)",
   "language": "python",
   "name": "python3"
  },
  "language_info": {
   "codemirror_mode": {
    "name": "ipython",
    "version": 3
   },
   "file_extension": ".py",
   "mimetype": "text/x-python",
   "name": "python",
   "nbconvert_exporter": "python",
   "pygments_lexer": "ipython3",
   "version": "3.11.5"
  }
 },
 "nbformat": 4,
 "nbformat_minor": 5
}
