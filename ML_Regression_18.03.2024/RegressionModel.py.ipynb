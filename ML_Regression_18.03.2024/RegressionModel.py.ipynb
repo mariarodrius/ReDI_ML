{
 "cells": [
  {
   "cell_type": "code",
   "execution_count": 1,
   "id": "8168ea5f",
   "metadata": {},
   "outputs": [],
   "source": [
    "import numpy as np\n",
    "import matplotlib.pyplot as plt"
   ]
  },
  {
   "cell_type": "code",
   "execution_count": 2,
   "id": "fca1bef7",
   "metadata": {},
   "outputs": [],
   "source": [
    "class MLRegression:\n",
    "    def __init__(self):\n",
    "        self.m = 0\n",
    "        self.c = 0\n",
    "        self.N = 1\n",
    "        \n",
    "    def train(self, Xtrain, Ytrain):\n",
    "        self.X = Xtrain\n",
    "        self.Y = Ytrain\n",
    "        SumX = np.sum(self.X)\n",
    "        SumY = np.sum(self.Y)\n",
    "        SumXX = np.sum(self.X*self.X)\n",
    "        SumXY = np.sum(self.X*self.Y)\n",
    "        self.N = self.X.size\n",
    "        self.m = (self.N*SumXY - SumX * SumY)/(self.N*SumXX - SumX*SumX)\n",
    "        self.c = (SumY - self.m*SumX)/self.N\n",
    "        print(\"ML Regression Model has been trained\")\n",
    "        print(\"m=\",self.m, \"c=\",self.c)\n",
    "        plt.scatter(self.X, self.Y)\n",
    "        yhat = self.m * self.X + self.c\n",
    "        plt.plot(self.X, yhat, lw = 4, c=\"orange\")\n",
    "        "
   ]
  },
  {
   "cell_type": "code",
   "execution_count": 4,
   "id": "65a2ca46",
   "metadata": {},
   "outputs": [
    {
     "ename": "ModuleNotFoundError",
     "evalue": "No module named 'RegressionModel'",
     "output_type": "error",
     "traceback": [
      "\u001b[1;31m---------------------------------------------------------------------------\u001b[0m",
      "\u001b[1;31mModuleNotFoundError\u001b[0m                       Traceback (most recent call last)",
      "Cell \u001b[1;32mIn[4], line 1\u001b[0m\n\u001b[1;32m----> 1\u001b[0m \u001b[38;5;28;01mfrom\u001b[39;00m \u001b[38;5;21;01mRegressionModel\u001b[39;00m \u001b[38;5;28;01mimport\u001b[39;00m MLRegression\n\u001b[0;32m      2\u001b[0m regression \u001b[38;5;241m=\u001b[39m MLRegression()\n\u001b[0;32m      3\u001b[0m regression\u001b[38;5;241m.\u001b[39mtrain(x,y)\n",
      "\u001b[1;31mModuleNotFoundError\u001b[0m: No module named 'RegressionModel'"
     ]
    }
   ],
   "source": [
    "from RegressionModel import MLRegression\n",
    "regression = MLRegression()\n",
    "regression.train(x,y)"
   ]
  },
  {
   "cell_type": "code",
   "execution_count": null,
   "id": "1f40b69d",
   "metadata": {},
   "outputs": [],
   "source": [
    "from RegressionModel import MLRegression\n",
    "regression = MLRegression()\n",
    "regression.train(x,y)\n",
    "regressioin.predict(1950)"
   ]
  },
  {
   "cell_type": "code",
   "execution_count": null,
   "id": "a2611700",
   "metadata": {},
   "outputs": [],
   "source": []
  },
  {
   "cell_type": "code",
   "execution_count": null,
   "id": "a2b23d17",
   "metadata": {},
   "outputs": [],
   "source": [
    "#using numpy linear algebra \"linalg\" package to to calculate least square regression"
   ]
  },
  {
   "cell_type": "code",
   "execution_count": null,
   "id": "808603e0",
   "metadata": {},
   "outputs": [],
   "source": [
    "A=np.vstack([X, np.ones(len(X))]).T\n",
    "A"
   ]
  },
  {
   "cell_type": "code",
   "execution_count": null,
   "id": "dfa7c061",
   "metadata": {},
   "outputs": [],
   "source": [
    "#solution\n",
    "solu=np.linalg.lstsq(A,Y,rcond=None)\n",
    "solu"
   ]
  },
  {
   "cell_type": "code",
   "execution_count": null,
   "id": "a85664c0",
   "metadata": {},
   "outputs": [],
   "source": [
    "m,c=solu[0]\n",
    "residual=solu[1]\n",
    "residual"
   ]
  },
  {
   "cell_type": "code",
   "execution_count": null,
   "id": "03c4bd77",
   "metadata": {},
   "outputs": [],
   "source": [
    "plt.scatter(X,Y)\n",
    "yhat=m*X+c\n",
    "plt.plot(X,yhat, lw=4, c=\"red\")"
   ]
  }
 ],
 "metadata": {
  "kernelspec": {
   "display_name": "Python 3 (ipykernel)",
   "language": "python",
   "name": "python3"
  },
  "language_info": {
   "codemirror_mode": {
    "name": "ipython",
    "version": 3
   },
   "file_extension": ".py",
   "mimetype": "text/x-python",
   "name": "python",
   "nbconvert_exporter": "python",
   "pygments_lexer": "ipython3",
   "version": "3.11.5"
  }
 },
 "nbformat": 4,
 "nbformat_minor": 5
}
