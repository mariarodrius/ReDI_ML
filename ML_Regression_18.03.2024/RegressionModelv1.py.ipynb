{
 "cells": [
  {
   "cell_type": "code",
   "execution_count": 4,
   "id": "5b473e94",
   "metadata": {},
   "outputs": [],
   "source": [
    "import numpy as np\n",
    "import pandas as pd\n",
    "import matplotlib.pyplot as plt"
   ]
  },
  {
   "cell_type": "code",
   "execution_count": 2,
   "id": "2dae166e",
   "metadata": {},
   "outputs": [],
   "source": [
    "#Insert this as a txt file as text file:\n",
    "\n",
    "#1714 3.1\n",
    "#1664 2.99\n",
    "#1760 3.2\n",
    "#1974 3.24\n",
    "#1866 3.28\n",
    "#1787 3.28\n",
    "#1821 3.28\n",
    "#2020 3.28\n",
    "#2050 3.5\n",
    "#1900 3.32\n",
    "\n",
    "#The file should be called RegressionDataSmall.txt"
   ]
  },
  {
   "cell_type": "code",
   "execution_count": 3,
   "id": "85c8babc",
   "metadata": {},
   "outputs": [
    {
     "ename": "NameError",
     "evalue": "name 'mydata' is not defined",
     "output_type": "error",
     "traceback": [
      "\u001b[1;31m---------------------------------------------------------------------------\u001b[0m",
      "\u001b[1;31mNameError\u001b[0m                                 Traceback (most recent call last)",
      "Cell \u001b[1;32mIn[3], line 2\u001b[0m\n\u001b[0;32m      1\u001b[0m \u001b[38;5;66;03m# Show our data\u001b[39;00m\n\u001b[1;32m----> 2\u001b[0m \u001b[38;5;28mprint\u001b[39m(\u001b[38;5;124m\"\u001b[39m\u001b[38;5;124mfirst row \u001b[39m\u001b[38;5;130;01m\\n\u001b[39;00m\u001b[38;5;124m\"\u001b[39m, mydata[:,:])\n",
      "\u001b[1;31mNameError\u001b[0m: name 'mydata' is not defined"
     ]
    }
   ],
   "source": [
    "# Show our data\n",
    "print(\"first row \\n\", mydata[:,:])"
   ]
  },
  {
   "cell_type": "code",
   "execution_count": null,
   "id": "686ecd43",
   "metadata": {},
   "outputs": [],
   "source": [
    "# plot data\n",
    "fig = plt.figure(figsize=(8,3))\n",
    "ax = fig.add_subplot(111)\n",
    "ax.set_title('data_stephan')\n",
    "ax.scatter(mydata[:,0], mydata[:,1])"
   ]
  },
  {
   "cell_type": "code",
   "execution_count": null,
   "id": "5349929b",
   "metadata": {},
   "outputs": [],
   "source": [
    "#Use X and y\n",
    "X = mydata[:,0]\n",
    "y = mydata[:,1]\n",
    "plt.scatter(X,y)"
   ]
  },
  {
   "cell_type": "code",
   "execution_count": null,
   "id": "29dc6ae3",
   "metadata": {},
   "outputs": [],
   "source": [
    "Build our own Approximation\n",
    "plt.scatter(X,y)\n",
    "m = .001\n",
    "b = 1.4\n",
    "yhat = m * X + b\n",
    "plt.plot(X, yhat)"
   ]
  },
  {
   "cell_type": "code",
   "execution_count": null,
   "id": "2668ec6b",
   "metadata": {},
   "outputs": [],
   "source": [
    "#Find residuals\n",
    "m = .001\n",
    "b = 1.4\n",
    "yhat = m * X + b\n",
    "residual = np.sum((y-yhat)**2)\n",
    "print(residual)"
   ]
  },
  {
   "cell_type": "code",
   "execution_count": 6,
   "id": "ccd4023f",
   "metadata": {},
   "outputs": [
    {
     "ename": "SyntaxError",
     "evalue": "invalid syntax (776370522.py, line 2)",
     "output_type": "error",
     "traceback": [
      "\u001b[1;36m  Cell \u001b[1;32mIn[6], line 2\u001b[1;36m\u001b[0m\n\u001b[1;33m    def__init__(self):\u001b[0m\n\u001b[1;37m                     ^\u001b[0m\n\u001b[1;31mSyntaxError\u001b[0m\u001b[1;31m:\u001b[0m invalid syntax\n"
     ]
    }
   ],
   "source": [
    "class MLRegression:\n",
    "    def__init__(self):\n",
    "        seld.n=0\n",
    "        self.c=0\n",
    "        self.N=1\n",
    "        \n",
    "    def train(self, Xtrain, Ytrain):\n",
    "        self.X=Xtrain\n",
    "        self.Y=Ytrain\n",
    "        SumX=np.sum(self.X)\n",
    "        SumY=np.sum(self.Y)\n",
    "        SumXX=np.sum(self.X**self.X)\n",
    "        SumXY=np.sum(self.X**self.Y)\n",
    "        self.N=self.X.size\n",
    "        self.m=(self.N*SumXY-SumX*SumY)/(self.N*SummXX-SumX*SumX)\n",
    "        self.c=(SumY-self.m*SumX)/self.N\n",
    "        \n",
    "        print(\"ML Regression Model has been trained\")\n",
    "        print(\"m=\",self.m, \"c=\",self.c)\n",
    "        plt.scatter(self.X, self.Y)\n",
    "        yhat = self.m * self.X + self.c\n",
    "        plt.plot(self.X, yhat, lw = 4, c=\"orange\")\n",
    "        \n",
    "        \n",
    "        \n",
    "        \n",
    "        \n",
    "    def predict(self, Xtext):\n",
    "        print(\"predict still TBD\")\n"
   ]
  },
  {
   "cell_type": "code",
   "execution_count": null,
   "id": "912e35d1",
   "metadata": {},
   "outputs": [],
   "source": [
    "print(\"slope m = \",m,\")"
   ]
  },
  {
   "cell_type": "code",
   "execution_count": null,
   "id": "bea213ad",
   "metadata": {},
   "outputs": [],
   "source": [
    "#### from hjere use file RegressionModel.py"
   ]
  },
  {
   "cell_type": "code",
   "execution_count": null,
   "id": "6a8730e3",
   "metadata": {},
   "outputs": [],
   "source": [
    "######\n",
    "import numpy as np\n",
    "import matplotlib.pyplot as plt\n",
    "\n",
    "class MLRegression:\n",
    "    def __init__(self):\n",
    "        self.m = 0\n",
    "        self.c = 0\n",
    "        self.N = 1\n",
    "        \n",
    "    def train(self, Xtrain, Ytrain):\n",
    "        self.X = Xtrain\n",
    "        self.Y = Ytrain\n",
    "        SumX = np.sum(self.X)\n",
    "        SumY = np.sum(self.Y)\n",
    "        SumXX = np.sum(self.X*self.X)\n",
    "        SumXY = np.sum(self.X*self.Y)\n",
    "        self.N = self.X.size\n",
    "        self.m = (self.N*SumXY - SumX * SumY)/(self.N*SumXX - SumX*SumX)\n",
    "        self.c = (SumY - self.m*SumX)/self.N\n",
    "        print(\"ML Regression Model has been trained\")\n",
    "        print(\"m=\",self.m, \"c=\",self.c)\n",
    "        plt.scatter(self.X, self.Y)\n",
    "        yhat = self.m * self.X + self.c\n",
    "        plt.plot(self.X, yhat, lw = 4, c=\"orange\")\n",
    "        \n",
    "        \n",
    "        \n",
    "        \n",
    "        \n",
    "    def predict(self, Xtext):\n",
    "        print(\"predict still TBD\")"
   ]
  },
  {
   "cell_type": "code",
   "execution_count": null,
   "id": "860e3378",
   "metadata": {},
   "outputs": [],
   "source": [
    "from RegressionModel import MLRegression\n",
    "regression = MLRegression()\n",
    "regression.train(x,y)"
   ]
  },
  {
   "cell_type": "code",
   "execution_count": null,
   "id": "51b95f6c",
   "metadata": {},
   "outputs": [],
   "source": []
  }
 ],
 "metadata": {
  "kernelspec": {
   "display_name": "Python 3 (ipykernel)",
   "language": "python",
   "name": "python3"
  },
  "language_info": {
   "codemirror_mode": {
    "name": "ipython",
    "version": 3
   },
   "file_extension": ".py",
   "mimetype": "text/x-python",
   "name": "python",
   "nbconvert_exporter": "python",
   "pygments_lexer": "ipython3",
   "version": "3.11.5"
  }
 },
 "nbformat": 4,
 "nbformat_minor": 5
}
