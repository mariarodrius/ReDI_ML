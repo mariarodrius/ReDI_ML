{
 "cells": [
  {
   "cell_type": "markdown",
   "metadata": {},
   "source": [
    "# Machine Learning: Regression"
   ]
  },
  {
   "cell_type": "markdown",
   "metadata": {},
   "source": [
    "## read file into numpy array"
   ]
  },
  {
   "cell_type": "code",
   "execution_count": 1,
   "metadata": {},
   "outputs": [],
   "source": [
    "# import  os # operating system\n",
    "import numpy as np # numpy toolbox\n",
    "import pandas as pd\n",
    "import matplotlib.pyplot as plt\n",
    "# We can override the default matplotlib styles with those of Seaborn\n",
    "#import seaborn as sns\n",
    "#sns.set()"
   ]
  },
  {
   "cell_type": "code",
   "execution_count": 2,
   "metadata": {},
   "outputs": [],
   "source": [
    "mydata = np.loadtxt(fname=\"RegressionDataSmall.txt\")"
   ]
  },
  {
   "cell_type": "code",
   "execution_count": 3,
   "metadata": {},
   "outputs": [
    {
     "name": "stdout",
     "output_type": "stream",
     "text": [
      "[[1714.      3.1 ]\n",
      " [1664.      2.99]\n",
      " [1760.      3.2 ]\n",
      " [1974.      3.24]\n",
      " [1866.      3.28]\n",
      " [1787.      3.28]\n",
      " [1821.      3.28]\n",
      " [2020.      3.28]\n",
      " [2050.      3.5 ]\n",
      " [1900.      3.32]]\n",
      "first row \n",
      " [1787.      3.28]\n",
      "first column \n",
      " [1714. 1664. 1760. 1974. 1866. 1787. 1821. 2020. 2050. 1900.]\n"
     ]
    }
   ],
   "source": [
    "print(mydata)\n",
    "print(\"first row \\n\",mydata[5,:]) # first row\n",
    "print(\"first column \\n\",mydata[:,0]) # first column"
   ]
  },
  {
   "cell_type": "markdown",
   "metadata": {},
   "source": [
    "#### look at matplotlib.org to see all the possiblilies"
   ]
  },
  {
   "cell_type": "code",
   "execution_count": 4,
   "metadata": {},
   "outputs": [
    {
     "data": {
      "text/plain": [
       "<matplotlib.collections.PathCollection at 0x7fe671677710>"
      ]
     },
     "execution_count": 4,
     "metadata": {},
     "output_type": "execute_result"
    },
    {
     "data": {
      "image/png": "[encoded data removed]",
      "text/plain": [
       "<Figure size 576x216 with 1 Axes>"
      ]
     },
     "metadata": {
      "needs_background": "light"
     },
     "output_type": "display_data"
    }
   ],
   "source": [
    "fig = plt.figure(figsize=(8,3))\n",
    "ax = fig.add_subplot(111)\n",
    "ax.set_title('data stephan')\n",
    "ax.scatter(mydata[:,0], mydata[:,1]) # slicing 1st, 2nd, 3rd column\n"
   ]
  },
  {
   "cell_type": "code",
   "execution_count": 5,
   "metadata": {},
   "outputs": [
    {
     "data": {
      "image/png": "[encoded data removed]",
      "text/plain": [
       "<Figure size 432x288 with 1 Axes>"
      ]
     },
     "metadata": {
      "needs_background": "light"
     },
     "output_type": "display_data"
    }
   ],
   "source": [
    "X = mydata[:,0]\n",
    "Y = mydata[:,1]\n",
    "plt.scatter(X,Y)\n",
    "plt.xlabel('X')\n",
    "plt.ylabel('Y')\n",
    "plt.show()"
   ]
  },
  {
   "cell_type": "markdown",
   "metadata": {},
   "source": [
    "# using panda to import data"
   ]
  },
  {
   "cell_type": "code",
   "execution_count": 6,
   "metadata": {},
   "outputs": [
    {
     "name": "stdout",
     "output_type": "stream",
     "text": [
      "                 0          1\n",
      "count    10.000000  10.000000\n",
      "mean   1855.600000   3.247000\n",
      "std     130.264858   0.134829\n",
      "min    1664.000000   2.990000\n",
      "25%    1766.750000   3.210000\n",
      "50%    1843.500000   3.280000\n",
      "75%    1955.500000   3.280000\n",
      "max    2050.000000   3.500000\n"
     ]
    }
   ],
   "source": [
    "mydatapd = pd.DataFrame(mydata)\n",
    "print(mydatapd.describe())"
   ]
  },
  {
   "cell_type": "markdown",
   "metadata": {},
   "source": [
    "# Drax line"
   ]
  },
  {
   "cell_type": "code",
   "execution_count": 25,
   "metadata": {},
   "outputs": [
    {
     "name": "stdout",
     "output_type": "stream",
     "text": [
      "Residual =  0.17918924160000005\n"
     ]
    },
    {
     "data": {
      "image/png": "[encoded data removed]",
      "text/plain": [
       "<Figure size 432x288 with 1 Axes>"
      ]
     },
     "metadata": {
      "needs_background": "light"
     },
     "output_type": "display_data"
    }
   ],
   "source": [
    "X = mydata[:,0]\n",
    "Y = mydata[:,1]\n",
    "plt.scatter(X,Y)\n",
    "m = 0.00168\n",
    "b = 0.17\n",
    "yhat = m * X + b\n",
    "plt.plot(X,yhat)\n",
    "residual = np.sum((yhat-Y)**2)\n",
    "print(\"Residual = \",residual)"
   ]
  },
  {
   "cell_type": "markdown",
   "metadata": {},
   "source": [
    "# Calculate from hand"
   ]
  },
  {
   "cell_type": "markdown",
   "metadata": {},
   "source": [
    "$m = \\frac{N \\cdot \\sum XY - \\sum X \\cdot \\sum Y }{N* \\sum X^2 - (\\sum X)^2}$ "
   ]
  },
  {
   "cell_type": "markdown",
   "metadata": {},
   "source": [
    "$b = \\frac{\\sum Y - m \\cdot \\sum X}{N}$"
   ]
  },
  {
   "cell_type": "code",
   "execution_count": 7,
   "metadata": {},
   "outputs": [],
   "source": [
    "SumX = np.sum(X)\n",
    "SumY = np.sum(Y)\n",
    "SumXX = np.sum(X*X)\n",
    "SumXY = np.sum(X*Y)\n",
    "N = X.size"
   ]
  },
  {
   "cell_type": "code",
   "execution_count": 8,
   "metadata": {},
   "outputs": [],
   "source": [
    "m = (N*SumXY - SumX * SumY)/(N*SumXX - SumX*SumX)\n",
    "b = (SumY - m*SumX)/N"
   ]
  },
  {
   "cell_type": "markdown",
   "metadata": {},
   "source": [
    "# using linalg from numpy to calculate least squares "
   ]
  },
  {
   "cell_type": "code",
   "execution_count": 9,
   "metadata": {},
   "outputs": [
    {
     "data": {
      "text/plain": [
       "array([0.05547575])"
      ]
     },
     "execution_count": 9,
     "metadata": {},
     "output_type": "execute_result"
    }
   ],
   "source": [
    "A = np.vstack([X, np.ones(len(X))]).T\n",
    "solu = np.linalg.lstsq(A,Y,rcond=None)\n",
    "m,c = solu[0]\n",
    "residual = solu[1]\n",
    "residual"
   ]
  },
  {
   "cell_type": "code",
   "execution_count": 10,
   "metadata": {},
   "outputs": [
    {
     "data": {
      "text/plain": [
       "(0.0008414592942396703, 1.6855881336088692)"
      ]
     },
     "execution_count": 10,
     "metadata": {},
     "output_type": "execute_result"
    },
    {
     "data": {
      "image/png": "[encoded data removed]",
      "text/plain": [
       "<Figure size 432x288 with 1 Axes>"
      ]
     },
     "metadata": {
      "needs_background": "light"
     },
     "output_type": "display_data"
    }
   ],
   "source": [
    "plt.scatter(X,Y)\n",
    "plt.xlabel('X')\n",
    "plt.ylabel('Y')\n",
    "yhat = m*X + c\n",
    "plt.plot(X,yhat, lw=4, c='orange')\n",
    "m,c"
   ]
  },
  {
   "cell_type": "markdown",
   "metadata": {},
   "source": [
    "# ML Regression Class"
   ]
  },
  {
   "cell_type": "code",
   "execution_count": 11,
   "metadata": {},
   "outputs": [
    {
     "name": "stdout",
     "output_type": "stream",
     "text": [
      "ML Regression Model has been trained\n",
      "m= 0.0008414592942397181  c= 1.685588133608779\n",
      "ML Regression Prediction\n",
      "Input =  1900  Prediction =  3.2843607926642435\n"
     ]
    },
    {
     "data": {
      "image/png": "[encoded data removed]",
      "text/plain": [
       "<Figure size 432x288 with 1 Axes>"
      ]
     },
     "metadata": {
      "needs_background": "light"
     },
     "output_type": "display_data"
    }
   ],
   "source": [
    "from RegressionModel import MLRegression\n",
    "regression = MLRegression()\n",
    "regression.train(X,Y)\n",
    "regression.predict(1900)"
   ]
  },
  {
   "cell_type": "code",
   "execution_count": 12,
   "metadata": {},
   "outputs": [
    {
     "name": "stdout",
     "output_type": "stream",
     "text": [
      "ML Polynomial Regression Model has been trained\n"
     ]
    },
    {
     "data": {
      "image/png": "[encoded data removed]",
      "text/plain": [
       "<Figure size 432x288 with 1 Axes>"
      ]
     },
     "metadata": {
      "needs_background": "light"
     },
     "output_type": "display_data"
    }
   ],
   "source": [
    "regression.trainPoly(X,Y,4)  #the final number is the degree of the polynomial that we choose"
   ]
  },
  {
   "cell_type": "code",
   "execution_count": null,
   "metadata": {},
   "outputs": [],
   "source": []
  }
 ],
 "metadata": {
  "kernelspec": {
   "display_name": "Python 3 (ipykernel)",
   "language": "python",
   "name": "python3"
  },
  "language_info": {
   "codemirror_mode": {
    "name": "ipython",
    "version": 3
   },
   "file_extension": ".py",
   "mimetype": "text/x-python",
   "name": "python",
   "nbconvert_exporter": "python",
   "pygments_lexer": "ipython3",
   "version": "3.11.5"
  }
 },
 "nbformat": 4,
 "nbformat_minor": 4
}
