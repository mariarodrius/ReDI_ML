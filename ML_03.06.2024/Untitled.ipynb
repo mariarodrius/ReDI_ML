{
 "cells": [
  {
   "cell_type": "code",
   "execution_count": null,
   "id": "f94bc4e7",
   "metadata": {},
   "outputs": [],
   "source": [
    "# streamlit to deploy a model quickly --> app in web accesible to everyone\n",
    "## (shiny is similar but for R and Python)\n",
    "\n",
    "## streamlits runs over and over again based on user interactioin. it's the paradigm of streamlit.\n",
    "\n",
    "# https://colab.research.google.com/drive/1pkk3yUIvW1sLwOt0Hy-fL7KTDAFdRbsX?usp=sharing  \n",
    "## make a copy and open it. "
   ]
  },
  {
   "cell_type": "code",
   "execution_count": null,
   "id": "2014557d",
   "metadata": {},
   "outputs": [],
   "source": [
    "!pip install streamlit"
   ]
  },
  {
   "cell_type": "code",
   "execution_count": null,
   "id": "515eb024",
   "metadata": {},
   "outputs": [],
   "source": [
    "%%writefile app.py\n",
    "import streamlit as st\n",
    "from transformers import pipeline\n",
    "\n",
    "@st.cache_resource\n",
    "def load_model():\n",
    "    return pipeline('text-generation', model='gpt2-xl', device='cuda')\n",
    "\n",
    "model = load_model()\n",
    "\n",
    "st.title(\"GPT-2 XL Text Generation\")\n",
    "prompt = st.text_input(\"Enter your prompt:\", \"Once upon a time\")\n",
    "\n",
    "if st.button(\"Generate\"):\n",
    "    with st.spinner('Generating...'):\n",
    "        result = model(prompt, max_length=500, num_return_sequences=1)\n",
    "        st.success(result[0]['generated_text'])"
   ]
  },
  {
   "cell_type": "code",
   "execution_count": null,
   "id": "c8c7e575",
   "metadata": {},
   "outputs": [],
   "source": [
    "!streamlit run app.py --server.port 8511 & npx localtunnel --port 8511\n",
    "\n",
    "## localtunnel is needed because we will be using Colab, due to the use of free GPUs. \n",
    "## can also use a virtual machine for deployment and then enter the port number to connect to the web"
   ]
  }
 ],
 "metadata": {
  "kernelspec": {
   "display_name": "Python 3 (ipykernel)",
   "language": "python",
   "name": "python3"
  },
  "language_info": {
   "codemirror_mode": {
    "name": "ipython",
    "version": 3
   },
   "file_extension": ".py",
   "mimetype": "text/x-python",
   "name": "python",
   "nbconvert_exporter": "python",
   "pygments_lexer": "ipython3",
   "version": "3.11.9"
  }
 },
 "nbformat": 4,
 "nbformat_minor": 5
}
