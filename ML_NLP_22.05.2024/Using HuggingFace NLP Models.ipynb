{
 "cells": [
  {
   "cell_type": "code",
   "execution_count": null,
   "id": "2b5e118b",
   "metadata": {},
   "outputs": [],
   "source": [
    "#%% packages\n",
    "from sentence_transformers import SentenceTransformer\n",
    "# %%\n",
    "sample_sentences = ['I am a sentence for which I would like to get its embedding', \n",
    "                    'I am a sentence', \n",
    "                    'Bert is a sentence embedding model']\n",
    "# %%\n",
    "model = SentenceTransformer('sentence-transformers/all-MiniLM-L6-v2')\n",
    "# %%\n",
    "embeddings = model.encode(sample_sentences)\n",
    "# %%\n",
    "embeddings.shape\n",
    "# %% sentence similarity\n",
    "from sklearn.metrics.pairwise import cosine_similarity\n",
    "# calculate cosine similarity between the first two sentences\n",
    "cosine_similarity([embeddings[0]], [embeddings[1]])"
   ]
  },
  {
   "cell_type": "code",
   "execution_count": null,
   "id": "a950a631",
   "metadata": {},
   "outputs": [],
   "source": [
    "# https://huggingface.co/distilbert/distilbert-base-uncased-finetuned-sst-2-english"
   ]
  },
  {
   "cell_type": "code",
   "execution_count": null,
   "id": "87bf4981",
   "metadata": {},
   "outputs": [],
   "source": [
    "!pip install transformers\n",
    "import torch\n",
    "from transformers import DistilBertTokenizer, DistilBertForSequenceClassification\n",
    "\n",
    "tokenizer = DistilBertTokenizer.from_pretrained(\"distilbert-base-uncased-finetuned-sst-2-english\")\n",
    "model = DistilBertForSequenceClassification.from_pretrained(\"distilbert-base-uncased-finetuned-sst-2-english\")\n",
    "\n",
    "inputs = tokenizer(\"Hello, my dog is cute\", return_tensors=\"pt\")\n",
    "with torch.no_grad():\n",
    "    logits = model(**inputs).logits\n",
    "\n",
    "predicted_class_id = logits.argmax().item()\n",
    "model.config.id2label[predicted_class_id]"
   ]
  },
  {
   "cell_type": "code",
   "execution_count": null,
   "id": "b5c2405f",
   "metadata": {},
   "outputs": [],
   "source": []
  }
 ],
 "metadata": {
  "kernelspec": {
   "display_name": "Python 3 (ipykernel)",
   "language": "python",
   "name": "python3"
  },
  "language_info": {
   "codemirror_mode": {
    "name": "ipython",
    "version": 3
   },
   "file_extension": ".py",
   "mimetype": "text/x-python",
   "name": "python",
   "nbconvert_exporter": "python",
   "pygments_lexer": "ipython3",
   "version": "3.11.9"
  }
 },
 "nbformat": 4,
 "nbformat_minor": 5
}
