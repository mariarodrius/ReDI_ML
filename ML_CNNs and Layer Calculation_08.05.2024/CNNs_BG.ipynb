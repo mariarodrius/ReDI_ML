{
 "cells": [
  {
   "cell_type": "code",
   "execution_count": 2,
   "id": "39be7dff",
   "metadata": {},
   "outputs": [],
   "source": [
    "## Zero Shot Classification  search in:\n",
    "## https://huggingface.co/ predictive generative models already available\n",
    "\n",
    "## nowadays instead of ConvolutionalNNs in computer visioin, transformers are at the order of the day\n",
    "\n",
    "## VVG16 NiN - CNNs model visualization. newer ones: ResNet\n",
    "\n",
    "##those are different types of edge filters:\n",
    "## edge_detection.png (768×437) (kharshit.github.io) \n",
    "## cnn-edge-filters.png (771×901) (imagekit.io)\n",
    "\n",
    "## this is a nice video about filters that are learned: cnn filters - YouTube\n",
    "## Remember there are different types of filters. some can be learned others are set."
   ]
  },
  {
   "cell_type": "code",
   "execution_count": 3,
   "id": "ed1302ef",
   "metadata": {},
   "outputs": [
    {
     "ename": "ModuleNotFoundError",
     "evalue": "No module named 'torchvision'",
     "output_type": "error",
     "traceback": [
      "\u001b[1;31m---------------------------------------------------------------------------\u001b[0m",
      "\u001b[1;31mModuleNotFoundError\u001b[0m                       Traceback (most recent call last)",
      "Cell \u001b[1;32mIn[3], line 3\u001b[0m\n\u001b[0;32m      1\u001b[0m \u001b[38;5;66;03m#%%\u001b[39;00m\n\u001b[0;32m      2\u001b[0m \u001b[38;5;28;01mimport\u001b[39;00m \u001b[38;5;21;01mtorch\u001b[39;00m\n\u001b[1;32m----> 3\u001b[0m \u001b[38;5;28;01mfrom\u001b[39;00m \u001b[38;5;21;01mtorchvision\u001b[39;00m \u001b[38;5;28;01mimport\u001b[39;00m transforms\n\u001b[0;32m      4\u001b[0m \u001b[38;5;28;01mfrom\u001b[39;00m \u001b[38;5;21;01mPIL\u001b[39;00m \u001b[38;5;28;01mimport\u001b[39;00m Image\n\u001b[0;32m      5\u001b[0m \u001b[38;5;28;01mimport\u001b[39;00m \u001b[38;5;21;01mmatplotlib\u001b[39;00m\u001b[38;5;21;01m.\u001b[39;00m\u001b[38;5;21;01mpyplot\u001b[39;00m \u001b[38;5;28;01mas\u001b[39;00m \u001b[38;5;21;01mplt\u001b[39;00m\n",
      "\u001b[1;31mModuleNotFoundError\u001b[0m: No module named 'torchvision'"
     ]
    }
   ],
   "source": [
    "#%%\n",
    "import torch\n",
    "from torchvision import transforms\n",
    "from PIL import Image\n",
    "import matplotlib.pyplot as plt\n",
    "import numpy as np"
   ]
  },
  {
   "cell_type": "code",
   "execution_count": null,
   "id": "96c0f1a9",
   "metadata": {},
   "outputs": [],
   "source": [
    "#%% Import an image\n",
    "img_path = 'kiki.jpg'\n",
    "img = Image.open(img_path)\n",
    "img"
   ]
  },
  {
   "cell_type": "code",
   "execution_count": null,
   "id": "fe0eac61",
   "metadata": {},
   "outputs": [],
   "source": [
    "# %%\n",
    "first_transformation = transforms.Compose([\n",
    "    transforms.RandomRotation(45),\n",
    "    transforms.CenterCrop(200),\n",
    "    transforms.PILToTensor(),\n",
    "    transforms.ConvertImageDtype(torch.float),\n",
    "    ## https://pytorch.org/vision/stable/auto_examples/transforms/plot_transforms_illustrations.html#sphx-glr-auto-examples-transforms-plot-transforms-illustrations-py\n",
    " ])"
   ]
  },
  {
   "cell_type": "code",
   "execution_count": null,
   "id": "5aed868d",
   "metadata": {},
   "outputs": [],
   "source": [
    "# %%\n",
    "x = first_transformation(img)"
   ]
  },
  {
   "cell_type": "code",
   "execution_count": null,
   "id": "63d6cc4f",
   "metadata": {},
   "outputs": [],
   "source": [
    "# %%\n",
    "x.shape"
   ]
  },
  {
   "cell_type": "code",
   "execution_count": null,
   "id": "e0b82ec4",
   "metadata": {},
   "outputs": [],
   "source": [
    "#%% visualize the transformed image\n",
    "plt.imshow(x.permute(1,2,0).numpy())   ## 1 is now the x dimension; 2 is the y dimension; and 0 is the colour scale dimension.\n",
    "## need to re-arrange the order of the dimensions to convert back from torch tensor to numpy array\n",
    "# %%"
   ]
  }
 ],
 "metadata": {
  "kernelspec": {
   "display_name": "Python 3 (ipykernel)",
   "language": "python",
   "name": "python3"
  },
  "language_info": {
   "codemirror_mode": {
    "name": "ipython",
    "version": 3
   },
   "file_extension": ".py",
   "mimetype": "text/x-python",
   "name": "python",
   "nbconvert_exporter": "python",
   "pygments_lexer": "ipython3",
   "version": "3.11.9"
  }
 },
 "nbformat": 4,
 "nbformat_minor": 5
}
