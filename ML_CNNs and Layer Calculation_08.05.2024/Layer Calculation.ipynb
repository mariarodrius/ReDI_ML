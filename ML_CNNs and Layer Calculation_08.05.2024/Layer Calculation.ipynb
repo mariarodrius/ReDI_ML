{
 "cells": [
  {
   "cell_type": "code",
   "execution_count": null,
   "id": "6eb5ba23",
   "metadata": {},
   "outputs": [],
   "source": [
    "## Ordered Dictionary vs Dictionary\n",
    "\n",
    "## Need torch.nn and torch (generic)\n",
    "\n",
    "## BS: batch size; C: colour scale; H: height; W: width\n",
    "\n",
    "## nn.Conv2d(3, 8, 3) --> 3 is the BS output form the previous output layer; \n",
    "## 8 is the new number of features we want to have (increasing C from 3 to 8);\n",
    "## 3 is the kernel size, i.e. 3x3\n",
    "## result then is BS, 8, 30, 30\n",
    "\n",
    "## nn.MaxPool2d(2) --> BS, 8, 15, 15 (halving the the matrix size, from 30 to 15)\n",
    "\n",
    "## nn.Conv2d(8, 16, 3)  --> 8 is the output from the previous layer, 16 13 13  --> 16*13*13 = 2704\n",
    "##fc1: fully connected layer 1\n",
    "\n",
    "## nn.Flatten() ## BS, 2704 \n",
    "##\n",
    "\n",
    "\n",
    "## use model(input).shape --> to check step by step the sizes and numbers in the layers"
   ]
  }
 ],
 "metadata": {
  "kernelspec": {
   "display_name": "Python 3 (ipykernel)",
   "language": "python",
   "name": "python3"
  },
  "language_info": {
   "codemirror_mode": {
    "name": "ipython",
    "version": 3
   },
   "file_extension": ".py",
   "mimetype": "text/x-python",
   "name": "python",
   "nbconvert_exporter": "python",
   "pygments_lexer": "ipython3",
   "version": "3.11.9"
  }
 },
 "nbformat": 4,
 "nbformat_minor": 5
}
